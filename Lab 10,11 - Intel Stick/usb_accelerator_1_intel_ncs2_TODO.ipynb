{
 "cells": [
  {
   "cell_type": "markdown",
   "metadata": {},
   "source": [
    "# Deploying ANN models on Intel Neural Compute Stick 2\n",
    "\n",
    "<img src=\" data:image/jpeg;base64,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\" />\n",
    "\n",
    "Intel Neural Compute Stick 2 is a product designed for accelerating vision algorithms and neural network models. It is delivered in form of a larger USB stick (hence the name) that can be easly used to work with PC or any other development board that has USB ports.\n",
    "\n",
    "The core of the NCS consists of Intel Movidius Myriad X 4GB VPU (Vision Processing Unit) with 16 programmable cores and neural network engine which can work with frequency of up to 700MHz. NCS is compatible with most of the Linux distributions, Windows, MacOS and also Raspbian OS. To implement algorithms on NCS, Intel provides with OpenVINO environment that implements all necessary tools for model optimization, quantization, conversion and deployment on Intel accelerators. "
   ]
  },
  {
   "cell_type": "markdown",
   "metadata": {},
   "source": [
    "## Model deployment on NCS2\n",
    "\n",
    "On this laboratories we will work with Intel NCS in version 2. Two important things have to be taken into consideration while using it:\n",
    "\n",
    "1. As for now, NCS2 only supports algorithms running on 16-bit floating-point data, meaning it cannot be quantized more than to hafl-precision;\n",
    "2. The distribution for NCS2 has ended in 2022 and the technical support by Intel ended this year in June, meaning that while working with NCS2 older versions of dedicated frameworks need to be used and some currently present on the Internet solutions may not be applicable.\n",
    "\n",
    "Lastly, remember to source OpenVINO variables from OpenVINO Runtime library:\n",
    "\n",
    "```\n",
    "source openvino_2022.3.1/setupvars.sh\n",
    "```\n",
    "\n",
    "It is recomended to activate virtual environment first (`source .venv_ncs_cua/bin/activate`), than source OpenVINO variables (`source openvino_2022.3.1/setupvars.sh`) and after that run your notebook editor from sourced terminal (e.g. `code usb_accelerator_1_intel_ncs2_TODO.ipynb` or `jupyter usb_accelerator_1_intel_ncs2_TODO.ipynb`). These steps should be enough for you to deploy on NCS from jupyter notebook.\n",
    "\n",
    "In case you had some problems with loading model to device or conecting to it, try to unplug and plug in again the device and restart your notebook editor. Another option is to reinstall OpenVINO Runtime:\n",
    "\n",
    "```\n",
    "rm -rf openvino_2022.3.1\n",
    "curl -L https://storage.openvinotoolkit.org/repositories/openvino/packages/2022.3.1/linux/l_openvino_toolkit_ubuntu20_2022.3.1.9227.cf2c7da5689_x86_64.tgz --output openvino_2022.3.1.tgz\n",
    "tar -xf openvino_2022.3.1.tgz\n",
    "mv l_openvino_toolkit_ubuntu20_2022.3.1.9227.cf2c7da5689_x86_64 openvino_2022.3.1\n",
    "cd openvino_2022.3.1\n",
    "sudo -E ./install_dependencies/install_openvino_dependencies.sh\n",
    "sudo ./install_dependencies/install_NCS_udev_rules.sh\n",
    "cd ..\n",
    "source openvino_2022.3.1/setupvars.sh\n",
    "```"
   ]
  },
  {
   "cell_type": "code",
   "execution_count": null,
   "metadata": {},
   "outputs": [],
   "source": [
    "from pathlib import Path\n",
    "import time\n",
    "import numpy as np\n",
    "import cv2\n",
    "from tensorflow.keras.applications.mobilenet_v2 import preprocess_input\n",
    "from openvino.inference_engine import IECore, ExecutableNetwork\n",
    "\n",
    "from usb_accelerator_utils import draw_classification_results, run_program"
   ]
  },
  {
   "cell_type": "code",
   "execution_count": null,
   "metadata": {},
   "outputs": [],
   "source": [
    "# @TODO: Set the shape of input data i.e. size of input image (it will be later used for input scaling)\n",
    "INPUT_IMAGE_WIDTH  = ...\n",
    "INPUT_IMAGE_HEIGHT = ...\n",
    "print(f'Input  shape: ({INPUT_IMAGE_HEIGHT}, {INPUT_IMAGE_WIDTH})')\n",
    "\n",
    "# @TODO: Load label names for MobilNet classes, you can find example files here: https://coral.ai/models/all/. Does labels' number equals model output shape?\n",
    "LABELS = ...\n",
    "print('Labels shape:', np.shape(LABELS))"
   ]
  },
  {
   "cell_type": "markdown",
   "metadata": {},
   "source": [
    "NCS2 uses OoenVINO's [Intermediate Representation](https://docs.openvino.ai/2023.2/openvino_ir.html) (IR) format to run model. Before we will run the conversion tool, let's organize our workspace."
   ]
  },
  {
   "cell_type": "code",
   "execution_count": null,
   "metadata": {},
   "outputs": [],
   "source": [
    "# @TODO: Provide path to TF model that was saved previously\n",
    "model_tf_dir = Path(...)\n",
    "\n",
    "if not model_tf_dir.exists():\n",
    "  raise FileNotFoundError(f'Cannot find model directory on given path: {model_tf_dir}')\n",
    "\n",
    "# @TODO: Provide path to directory where the converison results will be stored\n",
    "model_ir_dir = Path(...)\n",
    "\n",
    "model_ir_dir.mkdir(parents=True, exist_ok=True)\n",
    "\n",
    "# @TODO: Name your model :)\n",
    "model_name = ...\n",
    "\n",
    "# Full path to IR reprezentation file\n",
    "model_ir_path = Path(model_ir_dir, model_name+'.xml')"
   ]
  },
  {
   "cell_type": "markdown",
   "metadata": {},
   "source": [
    "Now run the [Model Optimizer](https://www.intel.com/content/www/us/en/developer/articles/technical/model-optimizer-for-ncs2.html) (MO) tool to convert our model from TF format to IR format."
   ]
  },
  {
   "cell_type": "code",
   "execution_count": null,
   "metadata": {},
   "outputs": [],
   "source": [
    "# Input shape\n",
    "input_shape = f'[1,{INPUT_IMAGE_HEIGHT},{INPUT_IMAGE_WIDTH},3]'\n",
    "\n",
    "# MO command to run in console\n",
    "mo_command  = f'''mo\n",
    "                  --saved_model_dir \"{model_tf_dir}\"\n",
    "                  --input_shape \"{input_shape}\"\n",
    "                  --model_name \"{model_name}\"\n",
    "                  --output_dir \"{model_ir_dir}\"\n",
    "                  --compress_to_fp16\n",
    "                  '''\n",
    "mo_command = ' '.join(mo_command.split())\n",
    "print(f'[ INFO ] Runing command:\\n\\' {mo_command} \\'')\n",
    "!{mo_command}\n",
    "print(f'[ INFO ] Model saved to {model_ir_path}')"
   ]
  },
  {
   "cell_type": "markdown",
   "metadata": {},
   "source": [
    "To read and load our model to NCS we will use [IECore](https://docs.openvino.ai/2022.3/api/ie_python_api/_autosummary/openvino.inference_engine.IECore.html) class provided by OpenVINO. As mentiones ealrier, due to the discontinuation of support for NCS2, OpenVINO 2022.3.1 is the last version that implements necessary functions for deploying ANN models on NCS thus there are many fuctionalities you will not find in the latest version (and may find it hard to find any documentation on deploying algorithms on NCS)."
   ]
  },
  {
   "cell_type": "code",
   "execution_count": null,
   "metadata": {},
   "outputs": [],
   "source": [
    "device = 'MYRIAD' # Device type category, 'MYRIAD' is the name used to refer to NCS\n",
    "\n",
    "# @TODO: initiate core class (IECore documentation site: https://docs.openvino.ai/2022.3/api/ie_python_api/_autosummary/openvino.inference_engine.IECore.html)\n",
    "ie = ...\n",
    "print(f'[ INFO ] Available devices: {ie.available_devices}')\n",
    "\n",
    "# @TODO: Read model in IR format using IECore (IECore documentation site: https://docs.openvino.ai/2022.3/api/ie_python_api/_autosummary/openvino.inference_engine.IECore.html)\n",
    "# @NOTE: You do not necessarily have to do it using IECore as there are others ways, find and implement them if you want to\n",
    "net = ...\n",
    "\n",
    "# Set input and output pointers to access input and output ports\n",
    "input_blob  = next(iter(net.input_info))\n",
    "output_blob = next(iter(net.outputs))\n",
    "\n",
    "versions = ie.get_versions(device)\n",
    "print(f'[ INFO ] For device {device}:')\n",
    "print(f'MKLDNNPlugin version ... {versions[device].major}.{versions[device].minor}')\n",
    "print(f'Build .................. {versions[device].build_number}')"
   ]
  },
  {
   "cell_type": "markdown",
   "metadata": {},
   "source": [
    "The core of our application is different basing on hardware we use. Below function is used for executing model in IR format on Intel NCS2."
   ]
  },
  {
   "cell_type": "code",
   "execution_count": null,
   "metadata": {},
   "outputs": [],
   "source": [
    "def run_ncs_classification(exec_net: ExecutableNetwork, img: np.ndarray, max_classes: int=1, min_score: float=0.0) -> float:\n",
    "  \n",
    "  # @TODO: Prepare image so it fits into model input.\n",
    "  #        Hint1: Use imported function `preprocess_input`\n",
    "  # @NOTE: On MYRIAD the order in which program iterate over image is different: not by each channel of \n",
    "  #        every pixel (in common notation: IM_HEIGHT->IM_WIDTH->CHANNEL), but by each frame of every\n",
    "  #        channel (CHANNEL->IM_HEIGHT->IM_WIDTH)\n",
    "  #        Hint2: One of the possible solution is to use `transpose` function from Numpy library\n",
    "  input_img = ...\n",
    "  \n",
    "  t0 = time.perf_counter()\n",
    "  \n",
    "  # @TODO: Perform one inference on prepared data\n",
    "  #        Hint: https://docs.openvino.ai/2022.3/api/ie_python_api/_autosummary/openvino.inference_engine.ExecutableNetwork.html#openvino.inference_engine.ExecutableNetwork\n",
    "  result = ...\n",
    "  \n",
    "  elapsed = time.perf_counter() - t0\n",
    "  \n",
    "  # @TODO: Extract classification scores, make it as a one-dimensional array\n",
    "  scores = ...\n",
    "  \n",
    "  class_idxs = np.arange(start=0, stop=scores.shape[0], step=1, dtype=int)\n",
    "  draw_classification_results(\n",
    "    img=img,\n",
    "    class_idxs=class_idxs,\n",
    "    scores=scores,\n",
    "    labels=LABELS,\n",
    "    max_classes=max_classes,\n",
    "    min_score=min_score)\n",
    "  return elapsed"
   ]
  },
  {
   "cell_type": "markdown",
   "metadata": {},
   "source": [
    "Last step is to load prepared model to NCS."
   ]
  },
  {
   "cell_type": "code",
   "execution_count": null,
   "metadata": {},
   "outputs": [],
   "source": [
    "t0 = time.perf_counter()\n",
    "\n",
    "# @TODO: Load model to device (IECore documentation site: https://docs.openvino.ai/2022.3/api/ie_python_api/_autosummary/openvino.inference_engine.IECore.html)\n",
    "exec_net = ...\n",
    "\n",
    "t1 = time.perf_counter() - t0\n",
    "print(f'[ INFO ] Load model to device - elapsed time: {t1:0.3f}s')"
   ]
  },
  {
   "cell_type": "markdown",
   "metadata": {},
   "source": [
    "Finally run the application."
   ]
  },
  {
   "cell_type": "code",
   "execution_count": null,
   "metadata": {},
   "outputs": [],
   "source": [
    "run_program(\n",
    "  exec_net=exec_net,\n",
    "  c_func=run_ncs_classification,\n",
    "  camera_idx=0,\n",
    "  max_disp=3,\n",
    "  min_score=0.1)"
   ]
  },
  {
   "cell_type": "code",
   "execution_count": null,
   "metadata": {},
   "outputs": [],
   "source": []
  }
 ],
 "metadata": {
  "kernelspec": {
   "display_name": "Python 3 (ipykernel)",
   "language": "python",
   "name": "python3"
  },
  "language_info": {
   "codemirror_mode": {
    "name": "ipython",
    "version": 3
   },
   "file_extension": ".py",
   "mimetype": "text/x-python",
   "name": "python",
   "nbconvert_exporter": "python",
   "pygments_lexer": "ipython3",
   "version": "3.8.10"
  }
 },
 "nbformat": 4,
 "nbformat_minor": 2
}
