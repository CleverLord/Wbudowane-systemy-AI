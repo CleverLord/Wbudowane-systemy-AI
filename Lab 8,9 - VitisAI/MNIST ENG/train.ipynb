{
 "cells": [
  {
   "cell_type": "code",
   "execution_count": 11,
   "id": "95bd6dd5",
   "metadata": {
    "id": "95bd6dd5"
   },
   "outputs": [],
   "source": [
    "import numpy as np\n",
    "import torch\n",
    "import matplotlib.pyplot as plt\n",
    "import local_utils\n",
    "import torch.nn.functional as F\n",
    "from torchvision import datasets\n",
    "from torch.utils.data import DataLoader\n",
    "from torchvision.transforms import ToTensor\n",
    "from local_utils import ResidualBlock\n",
    "from torch import nn"
   ]
  },
  {
   "cell_type": "markdown",
   "id": "547cd26f",
   "metadata": {
    "id": "547cd26f"
   },
   "source": [
    "### The first part of the class is dedicated to training our own network for classification. We will use the MNIST dataset and the MiniResNet model for this purpose. At the end we will do an evaluation on the CPU and GPU."
   ]
  },
  {
   "cell_type": "markdown",
   "id": "e7438742",
   "metadata": {
    "id": "e7438742"
   },
   "source": [
    "# 1. Preparation of the dataset"
   ]
  },
  {
   "cell_type": "markdown",
   "id": "282f626e",
   "metadata": {
    "id": "282f626e"
   },
   "source": [
    "MNIST is a database of handwritten digits. It contains 60,000 training and 10,000 test images with a size of 28 x 28. The PyTorch library enables us to retrieve the data easily using the `datasets.MNIST` function:\n",
    "- `root` - the path where the data will be saved,\n",
    "- `train` - we select whether the collection is training or testing (`True/False`),\n",
    "- `download` - if we want to download the data.\n",
    "\n",
    "The downloaded and prepared data, we then pass to the DataLoaders, which will be used for training and testing:\n",
    "- `dataset` - we specify the loaded datasets,\n",
    "- `batch_size` - the amount of data in one batch. The data is not large, so you can set the parameter to 64.\n",
    "- `shuffle` - whether the data will be shuffled. This is required during training.\n",
    "\n",
    "At the end, you can check that the data has been prepared correctly. The dimension of the data batch for the MNIST set, should be (batch_size, 1, 28, 28), while the labels should be in the range 0-9.\n",
    "\n",
    "If in any doubt, please refer to the documentation of the functions used:\n",
    "\n",
    "https://pytorch.org/vision/stable/generated/torchvision.datasets.MNIST.html#torchvision.datasets.MNIST\n",
    "\n",
    "https://pytorch.org/docs/stable/data.html#torch.utils.data.DataLoader"
   ]
  },
  {
   "cell_type": "code",
   "execution_count": 12,
   "id": "f95f4de9",
   "metadata": {
    "id": "f95f4de9",
    "outputId": "61e8c497-e0f9-43f9-9ac6-4159d8dfed74"
   },
   "outputs": [
    {
     "name": "stdout",
     "output_type": "stream",
     "text": [
      "Data batch shape =  (64, 1, 28, 28)\n",
      "Labels for batch =  [6 6 5 5 9 1 3 7 5 1 5 4 8 2 3 8 0 8 3 4 7 3 6 4 1 4 4 4 3 3 4 6 8 4 3 1 6\n",
      " 7 1 1 0 1 5 8 6 1 1 7 8 7 2 3 3 5 2 1 4 0 6 9 3 4 8 0]\n"
     ]
    }
   ],
   "source": [
    "batchsize = 64\n",
    "\n",
    "#image datasets\n",
    "train_dataset = datasets.MNIST(root='data', train=True, download=True, transform=ToTensor()) #TODO\n",
    "test_dataset = datasets.MNIST(root='data', train=False, download=True, transform=ToTensor()) #TODO\n",
    "\n",
    "#data loaders\n",
    "train_loader = DataLoader(dataset=train_dataset, batch_size=batchsize, shuffle=True) #TODO\n",
    "test_loader = DataLoader(dataset=test_dataset, batch_size=batchsize, shuffle=True) #TODO\n",
    "\n",
    "for X, Y in train_loader:\n",
    "    print(\"Data batch shape = \", np.shape(X.numpy()))\n",
    "    print(\"Labels for batch = \", Y.numpy())\n",
    "    break"
   ]
  },
  {
   "cell_type": "markdown",
   "id": "3407b935",
   "metadata": {
    "id": "3407b935"
   },
   "source": [
    "# 2. Model preparation"
   ]
  },
  {
   "cell_type": "markdown",
   "id": "0f5eb3fd",
   "metadata": {
    "id": "0f5eb3fd"
   },
   "source": [
    "We create the MiniResNet class:\n",
    "- we set `input_shape`  corresponding to the data (CH, H, W),\n",
    "- we set `num_of_classes` corresponding to the data.\n",
    "\n",
    "The part responsible for feature extraction `(CNN)` is built with 2D convolution layers, Max Pooling, ReLU and residual blocks (their implementation can be found in the local_utils.py file).\n",
    "\n",
    "\n",
    "The `(FC)` classifier part, on the other hand, consists of a flattening layer, a linear layer and a softmax layer.\n",
    "\n",
    "\n",
    "PyTorch allows us to create networks using the `nn.Module` class. The `nn.sequential` container allows us to initialise the layers in the correct order. The `forward` function calls the convolution part `CNN` and then the classifier part `FC`.\n",
    "\n",
    "\n",
    "Please fill in the missing data. The principle of each layer is described in detail in the PyTorch documentation:\n",
    "\n",
    "https://pytorch.org/docs/stable/nn.html"
   ]
  },
  {
   "cell_type": "code",
   "execution_count": 13,
   "id": "9c44eaad",
   "metadata": {
    "id": "9c44eaad"
   },
   "outputs": [],
   "source": [
    "class MiniResNet(nn.Module):\n",
    "    def __init__(self,\n",
    "                 input_shape: tuple = (1, 28, 28),\n",
    "                 num_of_classes=10\n",
    "                 ) -> None:\n",
    "        super().__init__()\n",
    "        self.CNN = nn.Sequential(\n",
    "                                nn.Conv2d(input_shape[0], 16, 3, padding=1),\n",
    "                                nn.ReLU(),\n",
    "\n",
    "                                ResidualBlock(16,4,3),\n",
    "\n",
    "                                nn.Conv2d(16, 32, 3, padding=1),\n",
    "                                nn.ReLU(),\n",
    "                                nn.MaxPool2d(2,2),\n",
    "\n",
    "                                ResidualBlock(32,4,3),\n",
    "                                ResidualBlock(32,2,3),\n",
    "\n",
    "                                nn.Conv2d(32, 64, 3, padding=1),\n",
    "                                nn.ReLU(),\n",
    "                                nn.MaxPool2d(2,2),\n",
    "\n",
    "\n",
    "                                ResidualBlock(64,8,3),\n",
    "                                ResidualBlock(64,16,3),\n",
    "\n",
    "\n",
    "                                nn.Conv2d(64, 128, 3),\n",
    "                                nn.ReLU(),\n",
    "                                nn.Conv2d(128, 128, 3),\n",
    "                                nn.ReLU(),\n",
    "                                )\n",
    "        CNN_out_shape = [\n",
    "                         128,\n",
    "                         input_shape[-2]//2//2 - 3//2*2 - 3//2*2,\n",
    "                         input_shape[-1]//2//2 - 3//2*2 - 3//2*2\n",
    "                        ]\n",
    "        CNN_flatten_len = torch.prod(torch.tensor(CNN_out_shape))\n",
    "\n",
    "        self.FC = nn.Sequential(\n",
    "                                nn.Flatten(),\n",
    "                                #nn.Linear(CNN_flatten_len, 256),\n",
    "                                #nn.ReLU(),\n",
    "                                #nn.Linear(256, 128),\n",
    "                                #nn.ReLU(),\n",
    "                                #nn.Linear(128, num_of_classes),\n",
    "                                nn.Linear(CNN_flatten_len, num_of_classes),\n",
    "                                nn.Softmax(dim=1)\n",
    "                               )\n",
    "\n",
    "    def forward(self, x: torch.Tensor) -> torch.Tensor:\n",
    "        return self.FC(self.CNN(x))"
   ]
  },
  {
   "cell_type": "markdown",
   "id": "85c39957",
   "metadata": {
    "id": "85c39957"
   },
   "source": [
    "We create a network instance. We can display the entire architecture using `print`."
   ]
  },
  {
   "cell_type": "code",
   "execution_count": 14,
   "id": "56e63e22",
   "metadata": {
    "id": "56e63e22",
    "outputId": "70421f86-1b54-4f01-cf71-70b1d0305755"
   },
   "outputs": [
    {
     "name": "stdout",
     "output_type": "stream",
     "text": [
      "MiniResNet(\n",
      "  (CNN): Sequential(\n",
      "    (0): Conv2d(1, 16, kernel_size=(3, 3), stride=(1, 1), padding=(1, 1))\n",
      "    (1): ReLU()\n",
      "    (2): ResidualBlock(\n",
      "      (L1): Sequential(\n",
      "        (0): Conv2d(16, 4, kernel_size=(3, 3), stride=(1, 1), padding=(1, 1), bias=False)\n",
      "        (1): BatchNorm2d(4, eps=1e-05, momentum=0.1, affine=True, track_running_stats=True)\n",
      "        (2): ReLU()\n",
      "      )\n",
      "      (L2): Sequential(\n",
      "        (0): Conv2d(4, 16, kernel_size=(3, 3), stride=(1, 1), padding=(1, 1), bias=False)\n",
      "        (1): BatchNorm2d(16, eps=1e-05, momentum=0.1, affine=True, track_running_stats=True)\n",
      "        (2): ReLU()\n",
      "      )\n",
      "    )\n",
      "    (3): Conv2d(16, 32, kernel_size=(3, 3), stride=(1, 1), padding=(1, 1))\n",
      "    (4): ReLU()\n",
      "    (5): MaxPool2d(kernel_size=2, stride=2, padding=0, dilation=1, ceil_mode=False)\n",
      "    (6): ResidualBlock(\n",
      "      (L1): Sequential(\n",
      "        (0): Conv2d(32, 4, kernel_size=(3, 3), stride=(1, 1), padding=(1, 1), bias=False)\n",
      "        (1): BatchNorm2d(4, eps=1e-05, momentum=0.1, affine=True, track_running_stats=True)\n",
      "        (2): ReLU()\n",
      "      )\n",
      "      (L2): Sequential(\n",
      "        (0): Conv2d(4, 32, kernel_size=(3, 3), stride=(1, 1), padding=(1, 1), bias=False)\n",
      "        (1): BatchNorm2d(32, eps=1e-05, momentum=0.1, affine=True, track_running_stats=True)\n",
      "        (2): ReLU()\n",
      "      )\n",
      "    )\n",
      "    (7): ResidualBlock(\n",
      "      (L1): Sequential(\n",
      "        (0): Conv2d(32, 2, kernel_size=(3, 3), stride=(1, 1), padding=(1, 1), bias=False)\n",
      "        (1): BatchNorm2d(2, eps=1e-05, momentum=0.1, affine=True, track_running_stats=True)\n",
      "        (2): ReLU()\n",
      "      )\n",
      "      (L2): Sequential(\n",
      "        (0): Conv2d(2, 32, kernel_size=(3, 3), stride=(1, 1), padding=(1, 1), bias=False)\n",
      "        (1): BatchNorm2d(32, eps=1e-05, momentum=0.1, affine=True, track_running_stats=True)\n",
      "        (2): ReLU()\n",
      "      )\n",
      "    )\n",
      "    (8): Conv2d(32, 64, kernel_size=(3, 3), stride=(1, 1), padding=(1, 1))\n",
      "    (9): ReLU()\n",
      "    (10): MaxPool2d(kernel_size=2, stride=2, padding=0, dilation=1, ceil_mode=False)\n",
      "    (11): ResidualBlock(\n",
      "      (L1): Sequential(\n",
      "        (0): Conv2d(64, 8, kernel_size=(3, 3), stride=(1, 1), padding=(1, 1), bias=False)\n",
      "        (1): BatchNorm2d(8, eps=1e-05, momentum=0.1, affine=True, track_running_stats=True)\n",
      "        (2): ReLU()\n",
      "      )\n",
      "      (L2): Sequential(\n",
      "        (0): Conv2d(8, 64, kernel_size=(3, 3), stride=(1, 1), padding=(1, 1), bias=False)\n",
      "        (1): BatchNorm2d(64, eps=1e-05, momentum=0.1, affine=True, track_running_stats=True)\n",
      "        (2): ReLU()\n",
      "      )\n",
      "    )\n",
      "    (12): ResidualBlock(\n",
      "      (L1): Sequential(\n",
      "        (0): Conv2d(64, 16, kernel_size=(3, 3), stride=(1, 1), padding=(1, 1), bias=False)\n",
      "        (1): BatchNorm2d(16, eps=1e-05, momentum=0.1, affine=True, track_running_stats=True)\n",
      "        (2): ReLU()\n",
      "      )\n",
      "      (L2): Sequential(\n",
      "        (0): Conv2d(16, 64, kernel_size=(3, 3), stride=(1, 1), padding=(1, 1), bias=False)\n",
      "        (1): BatchNorm2d(64, eps=1e-05, momentum=0.1, affine=True, track_running_stats=True)\n",
      "        (2): ReLU()\n",
      "      )\n",
      "    )\n",
      "    (13): Conv2d(64, 128, kernel_size=(3, 3), stride=(1, 1))\n",
      "    (14): ReLU()\n",
      "    (15): Conv2d(128, 128, kernel_size=(3, 3), stride=(1, 1))\n",
      "    (16): ReLU()\n",
      "  )\n",
      "  (FC): Sequential(\n",
      "    (0): Flatten(start_dim=1, end_dim=-1)\n",
      "    (1): Linear(in_features=1152, out_features=10, bias=True)\n",
      "    (2): Softmax(dim=1)\n",
      "  )\n",
      ")\n"
     ]
    }
   ],
   "source": [
    "model = MiniResNet()\n",
    "\n",
    "print(model)"
   ]
  },
  {
   "cell_type": "markdown",
   "id": "0458bfeb",
   "metadata": {
    "id": "0458bfeb"
   },
   "source": [
    "# 3. Network training"
   ]
  },
  {
   "cell_type": "markdown",
   "id": "0e08700e",
   "metadata": {
    "id": "0e08700e"
   },
   "source": [
    "We start by looking at the available computing resources. If possible, we want to train on the GPU (CUDA). We load the model on the device. We can check on which device we will be working.\n",
    "\n",
    "https://pytorch.org/docs/stable/tensor_attributes.html#torch.device"
   ]
  },
  {
   "cell_type": "code",
   "execution_count": 15,
   "id": "4e1f62dc",
   "metadata": {
    "id": "4e1f62dc",
    "outputId": "ffa87d83-2db0-4602-9346-4fd7d49697af"
   },
   "outputs": [
    {
     "name": "stdout",
     "output_type": "stream",
     "text": [
      "cpu\n"
     ]
    }
   ],
   "source": [
    "device = \"cuda\" if torch.cuda.is_available() else \"cpu\"\n",
    "\n",
    "model.to(device)\n",
    "print(device)"
   ]
  },
  {
   "cell_type": "markdown",
   "id": "6e90547d",
   "metadata": {
    "id": "6e90547d"
   },
   "source": [
    "We now proceed with the training. We will use the `training` function from the local_utils.py file. It takes as arguments respectively:\n",
    "- `model` - we specify our model,\n",
    "- `train_loader` / `test_loader` - these are respectively prepared DataLoaders with training/testing data,\n",
    "- `loss_fcn` - we will use the `CrossEntropyLoss` function from the `torch.nn` library with the parameter `reduction='mean'`,\n",
    "- `metric` - we will use the Accuracy metric, implemented in the local_utils file (`AccuracyMetric`),\n",
    "- `epoch_max` - we set the number of epochs to 5 (this parameter can be modified, but a small value will make the network inaccurate, while a large value will make us wait a long time for the result and there may be an overtraining effect!),\n",
    "- `device` - specify the available device, same as with the model,\n",
    "- `update_period` - please set to `5`,\n",
    "- `optimizer` - we will use `SGD` (Stochastic Gradient Descent) from the torch.optim library. We specify the model parameters and a learning rate equal to `0.1` (please refer to the documentation).\n",
    "\n",
    "https://pytorch.org/docs/stable/generated/torch.nn.CrossEntropyLoss.html\n",
    "\n",
    "https://pytorch.org/docs/stable/generated/torch.optim.SGD.html"
   ]
  },
  {
   "cell_type": "code",
   "execution_count": 22,
   "id": "09c8994f",
   "metadata": {
    "id": "09c8994f",
    "outputId": "d4fad44d-2a36-43e8-c266-247b01b6a987"
   },
   "outputs": [
    {
     "name": "stdout",
     "output_type": "stream",
     "text": [
      "Epoch 1 / 5: STARTED\n",
      "TRAINING\n",
      "Running on platform: Windows-10-10.0.22621-SP0, machine: AMD64, python_version: 3.9.13, processor: AMD64 Family 25 Model 80 Stepping 0, AuthenticAMD, system: Windows, \n"
     ]
    },
    {
     "name": "stderr",
     "output_type": "stream",
     "text": [
      "202it [00:13, 14.79it/s]"
     ]
    }
   ],
   "source": [
    "loss_fcn = nn.CrossEntropyLoss(reduction='mean')\n",
    "metric = local_utils.AccuracyMetric()\n",
    "epoch = 5\n",
    "update_period = 5\n",
    "optimizer = torch.optim.SGD(model.parameters(), lr=0.1)\n",
    "\n",
    "model, history = local_utils.training(model=model,\n",
    "                                    train_loader=train_loader,\n",
    "                                    test_loader=test_loader,\n",
    "                                    loss_fcn=loss_fcn,\n",
    "                                    metric=metric,\n",
    "                                    optimizer=optimizer,\n",
    "                                    update_period=update_period,\n",
    "                                    epoch_max=epoch,\n",
    "                                    device=device)"
   ]
  },
  {
   "cell_type": "markdown",
   "id": "7b608845",
   "metadata": {
    "id": "7b608845"
   },
   "source": [
    "We can display the training history with the `plot_history` function from local_utils. We just feed the `history` value from the `training` function to it. The expected value of `acc` and `val_acc` should be at the 98% level."
   ]
  },
  {
   "cell_type": "code",
   "execution_count": null,
   "id": "078b4b6f",
   "metadata": {
    "id": "078b4b6f",
    "outputId": "c582064b-87a3-4375-a2fa-28ef5de6a2db"
   },
   "outputs": [
    {
     "data": {
      "image/png": "[encoded data removed]",
      "text/plain": [
       "<Figure size 640x480 with 1 Axes>"
      ]
     },
     "metadata": {},
     "output_type": "display_data"
    },
    {
     "data": {
      "image/png": "[encoded data removed]",
      "text/plain": [
       "<Figure size 640x480 with 1 Axes>"
      ]
     },
     "metadata": {},
     "output_type": "display_data"
    }
   ],
   "source": [
    "local_utils.plot_history(history)"
   ]
  },
  {
   "cell_type": "markdown",
   "id": "f61994be",
   "metadata": {
    "id": "f61994be"
   },
   "source": [
    "Save the trained model to the file `MNIST.pth`. It will be useful later in the exercise."
   ]
  },
  {
   "cell_type": "code",
   "execution_count": 18,
   "id": "7c51377b",
   "metadata": {
    "id": "7c51377b"
   },
   "outputs": [],
   "source": [
    "sd = {'model': model.state_dict(), 'opt': optimizer.state_dict()}\n",
    "torch.save(sd, 'MNIST.pth', _use_new_zipfile_serialization=False)"
   ]
  },
  {
   "cell_type": "markdown",
   "id": "f69cc13a",
   "metadata": {
    "id": "f69cc13a"
   },
   "source": [
    "# 4. Model evaluation\n"
   ]
  },
  {
   "cell_type": "markdown",
   "id": "14f3efe4",
   "metadata": {
    "id": "14f3efe4"
   },
   "source": [
    "We will test the learned model on both the CPU and the GPU (if available).\n",
    "\n",
    "We start by creating a new DataLoader. We will use the test collection for it, just as we did at the beginning, but we will set the `batch_size` value to 1."
   ]
  },
  {
   "cell_type": "code",
   "execution_count": 19,
   "id": "abead943",
   "metadata": {
    "id": "abead943"
   },
   "outputs": [],
   "source": [
    "eval_loader = DataLoader(dataset=test_dataset, batch_size=1, shuffle=True)"
   ]
  },
  {
   "cell_type": "markdown",
   "id": "e5f41a72",
   "metadata": {
    "id": "e5f41a72"
   },
   "source": [
    "We set the device parameter to `cuda`.\n",
    "\n",
    "We create a new instance of the `MiniResNet` model, load the learned weights `MNIST.pth` with the `torch.load` function with the `map_location` parameter as the device on which the operation will be performed. With the `load_state_dict` function we load the data into the new model and load it onto the hardware.\n",
    "\n",
    "The `TimeMeasurement` function from `local_utils` allows us to check the time results of the model.\n",
    "\n",
    "We run the `train_test_pass` function. We specify our model, data generator, loss function, metric and device. We set `test` as `mode`. The `Optimizer` and `update_period` can be set to `None`."
   ]
  },
  {
   "cell_type": "code",
   "execution_count": 20,
   "id": "a8d896ec",
   "metadata": {
    "id": "a8d896ec",
    "outputId": "092014cc-8666-4b75-9536-ebb0b753d0f9"
   },
   "outputs": [
    {
     "ename": "RuntimeError",
     "evalue": "Attempting to deserialize object on a CUDA device but torch.cuda.is_available() is False. If you are running on a CPU-only machine, please use torch.load with map_location=torch.device('cpu') to map your storages to the CPU.",
     "output_type": "error",
     "traceback": [
      "\u001b[1;31m---------------------------------------------------------------------------\u001b[0m",
      "\u001b[1;31mRuntimeError\u001b[0m                              Traceback (most recent call last)",
      "\u001b[1;32mc:\\Users\\krzys\\Documents\\GitHub\\Wbudowane-systemy-AI\\Lab 8 - VitisAI\\MNIST ENG\\train.ipynb Cell 24\u001b[0m line \u001b[0;36m4\n\u001b[0;32m      <a href='vscode-notebook-cell:/c%3A/Users/krzys/Documents/GitHub/Wbudowane-systemy-AI/Lab%208%20-%20VitisAI/MNIST%20ENG/train.ipynb#X32sZmlsZQ%3D%3D?line=0'>1</a>\u001b[0m device \u001b[39m=\u001b[39m \u001b[39m\"\u001b[39m\u001b[39mcuda\u001b[39m\u001b[39m\"\u001b[39m\n\u001b[0;32m      <a href='vscode-notebook-cell:/c%3A/Users/krzys/Documents/GitHub/Wbudowane-systemy-AI/Lab%208%20-%20VitisAI/MNIST%20ENG/train.ipynb#X32sZmlsZQ%3D%3D?line=2'>3</a>\u001b[0m evalModel \u001b[39m=\u001b[39m MiniResNet()\n\u001b[1;32m----> <a href='vscode-notebook-cell:/c%3A/Users/krzys/Documents/GitHub/Wbudowane-systemy-AI/Lab%208%20-%20VitisAI/MNIST%20ENG/train.ipynb#X32sZmlsZQ%3D%3D?line=3'>4</a>\u001b[0m pretrainedModel \u001b[39m=\u001b[39m torch\u001b[39m.\u001b[39;49mload(\u001b[39m'\u001b[39;49m\u001b[39mMNIST.pth\u001b[39;49m\u001b[39m'\u001b[39;49m, map_location\u001b[39m=\u001b[39;49mdevice)\n\u001b[0;32m      <a href='vscode-notebook-cell:/c%3A/Users/krzys/Documents/GitHub/Wbudowane-systemy-AI/Lab%208%20-%20VitisAI/MNIST%20ENG/train.ipynb#X32sZmlsZQ%3D%3D?line=4'>5</a>\u001b[0m evalModel\u001b[39m.\u001b[39mload_state_dict(pretrainedModel[\u001b[39m'\u001b[39m\u001b[39mmodel\u001b[39m\u001b[39m'\u001b[39m])\n\u001b[0;32m      <a href='vscode-notebook-cell:/c%3A/Users/krzys/Documents/GitHub/Wbudowane-systemy-AI/Lab%208%20-%20VitisAI/MNIST%20ENG/train.ipynb#X32sZmlsZQ%3D%3D?line=5'>6</a>\u001b[0m evalModel\u001b[39m.\u001b[39mto(device)\n",
      "File \u001b[1;32mc:\\Users\\krzys\\Documents\\GitHub\\Wbudowane-systemy-AI\\.venv\\lib\\site-packages\\torch\\serialization.py:1028\u001b[0m, in \u001b[0;36mload\u001b[1;34m(f, map_location, pickle_module, weights_only, mmap, **pickle_load_args)\u001b[0m\n\u001b[0;32m   1026\u001b[0m     \u001b[39mexcept\u001b[39;00m \u001b[39mRuntimeError\u001b[39;00m \u001b[39mas\u001b[39;00m e:\n\u001b[0;32m   1027\u001b[0m         \u001b[39mraise\u001b[39;00m pickle\u001b[39m.\u001b[39mUnpicklingError(UNSAFE_MESSAGE \u001b[39m+\u001b[39m \u001b[39mstr\u001b[39m(e)) \u001b[39mfrom\u001b[39;00m \u001b[39mNone\u001b[39;00m\n\u001b[1;32m-> 1028\u001b[0m \u001b[39mreturn\u001b[39;00m _legacy_load(opened_file, map_location, pickle_module, \u001b[39m*\u001b[39m\u001b[39m*\u001b[39mpickle_load_args)\n",
      "File \u001b[1;32mc:\\Users\\krzys\\Documents\\GitHub\\Wbudowane-systemy-AI\\.venv\\lib\\site-packages\\torch\\serialization.py:1256\u001b[0m, in \u001b[0;36m_legacy_load\u001b[1;34m(f, map_location, pickle_module, **pickle_load_args)\u001b[0m\n\u001b[0;32m   1254\u001b[0m unpickler \u001b[39m=\u001b[39m UnpicklerWrapper(f, \u001b[39m*\u001b[39m\u001b[39m*\u001b[39mpickle_load_args)\n\u001b[0;32m   1255\u001b[0m unpickler\u001b[39m.\u001b[39mpersistent_load \u001b[39m=\u001b[39m persistent_load\n\u001b[1;32m-> 1256\u001b[0m result \u001b[39m=\u001b[39m unpickler\u001b[39m.\u001b[39;49mload()\n\u001b[0;32m   1258\u001b[0m deserialized_storage_keys \u001b[39m=\u001b[39m pickle_module\u001b[39m.\u001b[39mload(f, \u001b[39m*\u001b[39m\u001b[39m*\u001b[39mpickle_load_args)\n\u001b[0;32m   1260\u001b[0m offset \u001b[39m=\u001b[39m f\u001b[39m.\u001b[39mtell() \u001b[39mif\u001b[39;00m f_should_read_directly \u001b[39melse\u001b[39;00m \u001b[39mNone\u001b[39;00m\n",
      "File \u001b[1;32mc:\\Users\\krzys\\Documents\\GitHub\\Wbudowane-systemy-AI\\.venv\\lib\\site-packages\\torch\\serialization.py:1193\u001b[0m, in \u001b[0;36m_legacy_load.<locals>.persistent_load\u001b[1;34m(saved_id)\u001b[0m\n\u001b[0;32m   1189\u001b[0m     obj\u001b[39m.\u001b[39m_torch_load_uninitialized \u001b[39m=\u001b[39m \u001b[39mTrue\u001b[39;00m\n\u001b[0;32m   1190\u001b[0m     \u001b[39m# TODO: Once we decide to break serialization FC, we can\u001b[39;00m\n\u001b[0;32m   1191\u001b[0m     \u001b[39m# stop wrapping with TypedStorage\u001b[39;00m\n\u001b[0;32m   1192\u001b[0m     typed_storage \u001b[39m=\u001b[39m torch\u001b[39m.\u001b[39mstorage\u001b[39m.\u001b[39mTypedStorage(\n\u001b[1;32m-> 1193\u001b[0m         wrap_storage\u001b[39m=\u001b[39mrestore_location(obj, location),\n\u001b[0;32m   1194\u001b[0m         dtype\u001b[39m=\u001b[39mdtype,\n\u001b[0;32m   1195\u001b[0m         _internal\u001b[39m=\u001b[39m\u001b[39mTrue\u001b[39;00m)\n\u001b[0;32m   1196\u001b[0m     deserialized_objects[root_key] \u001b[39m=\u001b[39m typed_storage\n\u001b[0;32m   1197\u001b[0m \u001b[39melse\u001b[39;00m:\n",
      "File \u001b[1;32mc:\\Users\\krzys\\Documents\\GitHub\\Wbudowane-systemy-AI\\.venv\\lib\\site-packages\\torch\\serialization.py:1296\u001b[0m, in \u001b[0;36m_get_restore_location.<locals>.restore_location\u001b[1;34m(storage, location)\u001b[0m\n\u001b[0;32m   1295\u001b[0m \u001b[39mdef\u001b[39;00m \u001b[39mrestore_location\u001b[39m(storage, location):\n\u001b[1;32m-> 1296\u001b[0m     \u001b[39mreturn\u001b[39;00m default_restore_location(storage, map_location)\n",
      "File \u001b[1;32mc:\\Users\\krzys\\Documents\\GitHub\\Wbudowane-systemy-AI\\.venv\\lib\\site-packages\\torch\\serialization.py:381\u001b[0m, in \u001b[0;36mdefault_restore_location\u001b[1;34m(storage, location)\u001b[0m\n\u001b[0;32m    379\u001b[0m \u001b[39mdef\u001b[39;00m \u001b[39mdefault_restore_location\u001b[39m(storage, location):\n\u001b[0;32m    380\u001b[0m     \u001b[39mfor\u001b[39;00m _, _, fn \u001b[39min\u001b[39;00m _package_registry:\n\u001b[1;32m--> 381\u001b[0m         result \u001b[39m=\u001b[39m fn(storage, location)\n\u001b[0;32m    382\u001b[0m         \u001b[39mif\u001b[39;00m result \u001b[39mis\u001b[39;00m \u001b[39mnot\u001b[39;00m \u001b[39mNone\u001b[39;00m:\n\u001b[0;32m    383\u001b[0m             \u001b[39mreturn\u001b[39;00m result\n",
      "File \u001b[1;32mc:\\Users\\krzys\\Documents\\GitHub\\Wbudowane-systemy-AI\\.venv\\lib\\site-packages\\torch\\serialization.py:274\u001b[0m, in \u001b[0;36m_cuda_deserialize\u001b[1;34m(obj, location)\u001b[0m\n\u001b[0;32m    272\u001b[0m \u001b[39mdef\u001b[39;00m \u001b[39m_cuda_deserialize\u001b[39m(obj, location):\n\u001b[0;32m    273\u001b[0m     \u001b[39mif\u001b[39;00m location\u001b[39m.\u001b[39mstartswith(\u001b[39m'\u001b[39m\u001b[39mcuda\u001b[39m\u001b[39m'\u001b[39m):\n\u001b[1;32m--> 274\u001b[0m         device \u001b[39m=\u001b[39m validate_cuda_device(location)\n\u001b[0;32m    275\u001b[0m         \u001b[39mif\u001b[39;00m \u001b[39mgetattr\u001b[39m(obj, \u001b[39m\"\u001b[39m\u001b[39m_torch_load_uninitialized\u001b[39m\u001b[39m\"\u001b[39m, \u001b[39mFalse\u001b[39;00m):\n\u001b[0;32m    276\u001b[0m             \u001b[39mwith\u001b[39;00m torch\u001b[39m.\u001b[39mcuda\u001b[39m.\u001b[39mdevice(device):\n",
      "File \u001b[1;32mc:\\Users\\krzys\\Documents\\GitHub\\Wbudowane-systemy-AI\\.venv\\lib\\site-packages\\torch\\serialization.py:258\u001b[0m, in \u001b[0;36mvalidate_cuda_device\u001b[1;34m(location)\u001b[0m\n\u001b[0;32m    255\u001b[0m device \u001b[39m=\u001b[39m torch\u001b[39m.\u001b[39mcuda\u001b[39m.\u001b[39m_utils\u001b[39m.\u001b[39m_get_device_index(location, \u001b[39mTrue\u001b[39;00m)\n\u001b[0;32m    257\u001b[0m \u001b[39mif\u001b[39;00m \u001b[39mnot\u001b[39;00m torch\u001b[39m.\u001b[39mcuda\u001b[39m.\u001b[39mis_available():\n\u001b[1;32m--> 258\u001b[0m     \u001b[39mraise\u001b[39;00m \u001b[39mRuntimeError\u001b[39;00m(\u001b[39m'\u001b[39m\u001b[39mAttempting to deserialize object on a CUDA \u001b[39m\u001b[39m'\u001b[39m\n\u001b[0;32m    259\u001b[0m                        \u001b[39m'\u001b[39m\u001b[39mdevice but torch.cuda.is_available() is False. \u001b[39m\u001b[39m'\u001b[39m\n\u001b[0;32m    260\u001b[0m                        \u001b[39m'\u001b[39m\u001b[39mIf you are running on a CPU-only machine, \u001b[39m\u001b[39m'\u001b[39m\n\u001b[0;32m    261\u001b[0m                        \u001b[39m'\u001b[39m\u001b[39mplease use torch.load with map_location=torch.device(\u001b[39m\u001b[39m\\'\u001b[39;00m\u001b[39mcpu\u001b[39m\u001b[39m\\'\u001b[39;00m\u001b[39m) \u001b[39m\u001b[39m'\u001b[39m\n\u001b[0;32m    262\u001b[0m                        \u001b[39m'\u001b[39m\u001b[39mto map your storages to the CPU.\u001b[39m\u001b[39m'\u001b[39m)\n\u001b[0;32m    263\u001b[0m device_count \u001b[39m=\u001b[39m torch\u001b[39m.\u001b[39mcuda\u001b[39m.\u001b[39mdevice_count()\n\u001b[0;32m    264\u001b[0m \u001b[39mif\u001b[39;00m device \u001b[39m>\u001b[39m\u001b[39m=\u001b[39m device_count:\n",
      "\u001b[1;31mRuntimeError\u001b[0m: Attempting to deserialize object on a CUDA device but torch.cuda.is_available() is False. If you are running on a CPU-only machine, please use torch.load with map_location=torch.device('cpu') to map your storages to the CPU."
     ]
    }
   ],
   "source": [
    "device = \"cuda\"\n",
    "\n",
    "evalModel = MiniResNet()\n",
    "pretrainedModel = torch.load('MNIST.pth', map_location=device)\n",
    "evalModel.load_state_dict(pretrainedModel['model'])\n",
    "evalModel.to(device)\n",
    "\n",
    "tm = local_utils.TimeMeasurement(\"Host-GPU\", len(eval_loader))\n",
    "\n",
    "with tm:\n",
    "\n",
    "    evalModel, loss, acc = local_utils.train_test_pass(model=evalModel,\n",
    "                                                       data_generator=eval_loader,\n",
    "                                                       criterion=loss_fcn,\n",
    "                                                       metric=metric,\n",
    "                                                       optimizer=None,\n",
    "                                                       update_period=None,\n",
    "                                                       mode='test',\n",
    "                                                       device=device)\n",
    "\n",
    "print(repr(tm))\n",
    "print(\"loss:\", loss)\n",
    "print(\"acc:\", acc)"
   ]
  },
  {
   "cell_type": "markdown",
   "id": "ccfe3386",
   "metadata": {
    "id": "ccfe3386"
   },
   "source": [
    "We perform the same operation, but this time we set `cpu` as the device."
   ]
  },
  {
   "cell_type": "code",
   "execution_count": 21,
   "id": "a3bfd53d",
   "metadata": {
    "id": "a3bfd53d",
    "outputId": "107a982b-925c-42ba-aaed-e08328007c60"
   },
   "outputs": [
    {
     "name": "stdout",
     "output_type": "stream",
     "text": [
      "Running on platform: Windows-10-10.0.22621-SP0, machine: AMD64, python_version: 3.9.13, processor: AMD64 Family 25 Model 80 Stepping 0, AuthenticAMD, system: Windows, \n"
     ]
    },
    {
     "name": "stderr",
     "output_type": "stream",
     "text": [
      "0it [00:00, ?it/s]"
     ]
    },
    {
     "name": "stderr",
     "output_type": "stream",
     "text": [
      "10000it [00:22, 444.80it/s]"
     ]
    },
    {
     "name": "stdout",
     "output_type": "stream",
     "text": [
      "TimeMeasurement(context=\"Host-CPU\",\"0.0:0.0:22:485\", frames=10000, throughput=444.7304056564505)\n",
      "loss: 2.363150157690048\n",
      "acc: 0.098\n"
     ]
    },
    {
     "name": "stderr",
     "output_type": "stream",
     "text": [
      "\n"
     ]
    }
   ],
   "source": [
    "device = \"cpu\"\n",
    "\n",
    "evalModel = MiniResNet()\n",
    "pretrainedModel = torch.load('MNIST.pth', map_location=device)\n",
    "evalModel.load_state_dict(pretrainedModel['model'])\n",
    "evalModel.to(device)\n",
    "\n",
    "tm = local_utils.TimeMeasurement(\"Host-CPU\", len(eval_loader))\n",
    "\n",
    "with tm:\n",
    "    # TODO\n",
    "    evalModel, loss, acc = local_utils.train_test_pass(model=evalModel,\n",
    "                                                       data_generator=eval_loader,\n",
    "                                                       criterion=loss_fcn,\n",
    "                                                       metric=metric,\n",
    "                                                       optimizer=None,\n",
    "                                                       update_period=None,\n",
    "                                                       mode='test',\n",
    "                                                       device=device)\n",
    "\n",
    "print(repr(tm))\n",
    "print(\"loss:\", loss)\n",
    "print(\"acc:\", acc)"
   ]
  },
  {
   "cell_type": "markdown",
   "id": "44076ce6",
   "metadata": {
    "id": "44076ce6"
   },
   "source": [
    "Please make a note of the performance accuracy and throughput (value in FPS). After this part, only the `MNIST.pth` file will be used."
   ]
  },
  {
   "cell_type": "markdown",
   "id": "9a296422",
   "metadata": {
    "id": "9a296422"
   },
   "source": [
    "# 5. Further exercise\n",
    "\n",
    "We will now proceed to the quantisation of the model. To do this, start the Docker image.\n",
    "\n",
    "In the same folder, start a new terminal and run the command:\n",
    "\n",
    "`sudo bash ./docker_run.sh xilinx/vitis-ai:1.4.916`.\n",
    "\n",
    "After typing your sudo password (`lsriw`), click enter until asked. Type `y` and confirm.\n",
    "When Vitis AI appears, start the conda environment for PyTorch:\n",
    "\n",
    "`conda activate vitis-ai-pytorch`.\n",
    "\n",
    "Finally, start jupyter notebook with the following command:\n",
    "\n",
    "`jupyter notebook --no-browser --ip=0.0.0.0 --NotebookApp.token='' --NotebookApp.password=''`.\n",
    "\n",
    "An http link will appear in the console. Right click and open the link. Disable this notepad and navigate to the quantize.ipynb file in running Jupyter.\n",
    "\n",
    "------------------------------------------------------------------------------------------------------\n",
    "NOTE: This is not the same Jupyter we were working now.\n",
    "The current Jupyter was running in a system conda environment. This allowed us to work with both CUDA and CPU at the same time.\n",
    "The launched Jupyter is in Docker, which is configured for quantisation with Vitis AI. There, only the CPU is available."
   ]
  }
 ],
 "metadata": {
  "colab": {
   "provenance": []
  },
  "kernelspec": {
   "display_name": "Python 3 (ipykernel)",
   "language": "python",
   "name": "python3"
  },
  "language_info": {
   "codemirror_mode": {
    "name": "ipython",
    "version": 3
   },
   "file_extension": ".py",
   "mimetype": "text/x-python",
   "name": "python",
   "nbconvert_exporter": "python",
   "pygments_lexer": "ipython3",
   "version": "3.9.13"
  }
 },
 "nbformat": 4,
 "nbformat_minor": 5
}
