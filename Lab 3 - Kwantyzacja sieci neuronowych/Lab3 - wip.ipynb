{
 "cells": [
  {
   "cell_type": "markdown",
   "metadata": {
    "id": "wHGC0EFt3aZF"
   },
   "source": [
    "# Neural networks quantization\n",
    "\n",
    "Today we will deal with neural networks quantization!\n",
    "\n",
    "Remember that our goal is to reduce network size while keeping the accuracy high!\n",
    "\n",
    "For this purpose we will use Intel's OpenVino and Neural Network Compression Framework (NNCF). Be aware, that there are other frameworks to choose from: buildin PyTorch quantization, Brevitas from Xilinx, TensorRT and others.\n",
    "\n",
    "Use this link for OpenVino reference and documentation: https://docs.openvino.ai/2023.0/home.html\n",
    "\n",
    "First, install and import nessessery libraries."
   ]
  },
  {
   "cell_type": "code",
   "execution_count": 1,
   "metadata": {
    "id": "bNKDyp4Ssmcw"
   },
   "outputs": [
    {
     "name": "stdout",
     "output_type": "stream",
     "text": [
      "Requirement already satisfied: openvino in c:\\users\\krzys\\documents\\github\\wbudowane-systemy-ai\\.venv\\lib\\site-packages (2023.1.0)\n",
      "Requirement already satisfied: numpy>=1.16.6 in c:\\users\\krzys\\documents\\github\\wbudowane-systemy-ai\\.venv\\lib\\site-packages (from openvino) (1.24.4)\n",
      "Requirement already satisfied: openvino-telemetry>=2023.1.0 in c:\\users\\krzys\\documents\\github\\wbudowane-systemy-ai\\.venv\\lib\\site-packages (from openvino) (2023.2.1)\n",
      "Requirement already satisfied: nncf in c:\\users\\krzys\\documents\\github\\wbudowane-systemy-ai\\.venv\\lib\\site-packages (2.6.0)\n",
      "Requirement already satisfied: jsonschema>=3.2.0 in c:\\users\\krzys\\documents\\github\\wbudowane-systemy-ai\\.venv\\lib\\site-packages (from nncf) (4.19.1)\n",
      "Requirement already satisfied: jstyleson>=0.0.2 in c:\\users\\krzys\\documents\\github\\wbudowane-systemy-ai\\.venv\\lib\\site-packages (from nncf) (0.0.2)\n",
      "Requirement already satisfied: natsort>=7.1.0 in c:\\users\\krzys\\documents\\github\\wbudowane-systemy-ai\\.venv\\lib\\site-packages (from nncf) (8.4.0)\n",
      "Requirement already satisfied: networkx<=2.8.2,>=2.6 in c:\\users\\krzys\\documents\\github\\wbudowane-systemy-ai\\.venv\\lib\\site-packages (from nncf) (2.8.2)\n",
      "Requirement already satisfied: ninja<1.11,>=1.10.0.post2 in c:\\users\\krzys\\documents\\github\\wbudowane-systemy-ai\\.venv\\lib\\site-packages (from nncf) (1.10.2.4)\n",
      "Requirement already satisfied: numpy<1.25,>=1.19.1 in c:\\users\\krzys\\documents\\github\\wbudowane-systemy-ai\\.venv\\lib\\site-packages (from nncf) (1.24.4)\n",
      "Requirement already satisfied: openvino-telemetry>=2023.1.1 in c:\\users\\krzys\\documents\\github\\wbudowane-systemy-ai\\.venv\\lib\\site-packages (from nncf) (2023.2.1)\n",
      "Requirement already satisfied: packaging>=20.0 in c:\\users\\krzys\\documents\\github\\wbudowane-systemy-ai\\.venv\\lib\\site-packages (from nncf) (23.2)\n",
      "Requirement already satisfied: pandas<2.1,>=1.1.5 in c:\\users\\krzys\\documents\\github\\wbudowane-systemy-ai\\.venv\\lib\\site-packages (from nncf) (2.0.3)\n",
      "Requirement already satisfied: psutil in c:\\users\\krzys\\documents\\github\\wbudowane-systemy-ai\\.venv\\lib\\site-packages (from nncf) (5.9.6)\n",
      "Requirement already satisfied: pydot>=1.4.1 in c:\\users\\krzys\\documents\\github\\wbudowane-systemy-ai\\.venv\\lib\\site-packages (from nncf) (1.4.2)\n",
      "Requirement already satisfied: pymoo>=0.6.0.1 in c:\\users\\krzys\\documents\\github\\wbudowane-systemy-ai\\.venv\\lib\\site-packages (from nncf) (0.6.0.1)\n",
      "Requirement already satisfied: pyparsing<3.0 in c:\\users\\krzys\\documents\\github\\wbudowane-systemy-ai\\.venv\\lib\\site-packages (from nncf) (2.4.7)\n",
      "Requirement already satisfied: scikit-learn>=0.24.0 in c:\\users\\krzys\\documents\\github\\wbudowane-systemy-ai\\.venv\\lib\\site-packages (from nncf) (1.3.2)\n",
      "Requirement already satisfied: scipy<1.11,>=1.3.2 in c:\\users\\krzys\\documents\\github\\wbudowane-systemy-ai\\.venv\\lib\\site-packages (from nncf) (1.10.1)\n",
      "Requirement already satisfied: texttable>=1.6.3 in c:\\users\\krzys\\documents\\github\\wbudowane-systemy-ai\\.venv\\lib\\site-packages (from nncf) (1.7.0)\n",
      "Requirement already satisfied: tqdm>=4.54.1 in c:\\users\\krzys\\documents\\github\\wbudowane-systemy-ai\\.venv\\lib\\site-packages (from nncf) (4.66.1)\n",
      "Requirement already satisfied: attrs>=22.2.0 in c:\\users\\krzys\\documents\\github\\wbudowane-systemy-ai\\.venv\\lib\\site-packages (from jsonschema>=3.2.0->nncf) (23.1.0)\n",
      "Requirement already satisfied: jsonschema-specifications>=2023.03.6 in c:\\users\\krzys\\documents\\github\\wbudowane-systemy-ai\\.venv\\lib\\site-packages (from jsonschema>=3.2.0->nncf) (2023.7.1)\n",
      "Requirement already satisfied: referencing>=0.28.4 in c:\\users\\krzys\\documents\\github\\wbudowane-systemy-ai\\.venv\\lib\\site-packages (from jsonschema>=3.2.0->nncf) (0.30.2)\n",
      "Requirement already satisfied: rpds-py>=0.7.1 in c:\\users\\krzys\\documents\\github\\wbudowane-systemy-ai\\.venv\\lib\\site-packages (from jsonschema>=3.2.0->nncf) (0.10.6)\n",
      "Requirement already satisfied: python-dateutil>=2.8.2 in c:\\users\\krzys\\documents\\github\\wbudowane-systemy-ai\\.venv\\lib\\site-packages (from pandas<2.1,>=1.1.5->nncf) (2.8.2)\n",
      "Requirement already satisfied: pytz>=2020.1 in c:\\users\\krzys\\documents\\github\\wbudowane-systemy-ai\\.venv\\lib\\site-packages (from pandas<2.1,>=1.1.5->nncf) (2023.3.post1)\n",
      "Requirement already satisfied: tzdata>=2022.1 in c:\\users\\krzys\\documents\\github\\wbudowane-systemy-ai\\.venv\\lib\\site-packages (from pandas<2.1,>=1.1.5->nncf) (2023.3)\n",
      "Requirement already satisfied: matplotlib>=3 in c:\\users\\krzys\\documents\\github\\wbudowane-systemy-ai\\.venv\\lib\\site-packages (from pymoo>=0.6.0.1->nncf) (3.8.0)\n",
      "Requirement already satisfied: autograd>=1.4 in c:\\users\\krzys\\documents\\github\\wbudowane-systemy-ai\\.venv\\lib\\site-packages (from pymoo>=0.6.0.1->nncf) (1.6.2)\n",
      "Requirement already satisfied: cma==3.2.2 in c:\\users\\krzys\\documents\\github\\wbudowane-systemy-ai\\.venv\\lib\\site-packages (from pymoo>=0.6.0.1->nncf) (3.2.2)\n",
      "Requirement already satisfied: alive-progress in c:\\users\\krzys\\documents\\github\\wbudowane-systemy-ai\\.venv\\lib\\site-packages (from pymoo>=0.6.0.1->nncf) (3.1.4)\n",
      "Requirement already satisfied: dill in c:\\users\\krzys\\documents\\github\\wbudowane-systemy-ai\\.venv\\lib\\site-packages (from pymoo>=0.6.0.1->nncf) (0.3.7)\n",
      "Requirement already satisfied: Deprecated in c:\\users\\krzys\\documents\\github\\wbudowane-systemy-ai\\.venv\\lib\\site-packages (from pymoo>=0.6.0.1->nncf) (1.2.14)\n",
      "Requirement already satisfied: joblib>=1.1.1 in c:\\users\\krzys\\documents\\github\\wbudowane-systemy-ai\\.venv\\lib\\site-packages (from scikit-learn>=0.24.0->nncf) (1.3.2)\n",
      "Requirement already satisfied: threadpoolctl>=2.0.0 in c:\\users\\krzys\\documents\\github\\wbudowane-systemy-ai\\.venv\\lib\\site-packages (from scikit-learn>=0.24.0->nncf) (3.2.0)\n",
      "Requirement already satisfied: colorama in c:\\users\\krzys\\documents\\github\\wbudowane-systemy-ai\\.venv\\lib\\site-packages (from tqdm>=4.54.1->nncf) (0.4.6)\n",
      "Requirement already satisfied: future>=0.15.2 in c:\\users\\krzys\\documents\\github\\wbudowane-systemy-ai\\.venv\\lib\\site-packages (from autograd>=1.4->pymoo>=0.6.0.1->nncf) (0.18.3)\n",
      "Requirement already satisfied: contourpy>=1.0.1 in c:\\users\\krzys\\documents\\github\\wbudowane-systemy-ai\\.venv\\lib\\site-packages (from matplotlib>=3->pymoo>=0.6.0.1->nncf) (1.1.1)\n",
      "Requirement already satisfied: cycler>=0.10 in c:\\users\\krzys\\documents\\github\\wbudowane-systemy-ai\\.venv\\lib\\site-packages (from matplotlib>=3->pymoo>=0.6.0.1->nncf) (0.12.1)\n",
      "Requirement already satisfied: fonttools>=4.22.0 in c:\\users\\krzys\\documents\\github\\wbudowane-systemy-ai\\.venv\\lib\\site-packages (from matplotlib>=3->pymoo>=0.6.0.1->nncf) (4.43.1)\n",
      "Requirement already satisfied: kiwisolver>=1.0.1 in c:\\users\\krzys\\documents\\github\\wbudowane-systemy-ai\\.venv\\lib\\site-packages (from matplotlib>=3->pymoo>=0.6.0.1->nncf) (1.4.5)\n",
      "Requirement already satisfied: pillow>=6.2.0 in c:\\users\\krzys\\documents\\github\\wbudowane-systemy-ai\\.venv\\lib\\site-packages (from matplotlib>=3->pymoo>=0.6.0.1->nncf) (10.1.0)\n",
      "Requirement already satisfied: importlib-resources>=3.2.0 in c:\\users\\krzys\\documents\\github\\wbudowane-systemy-ai\\.venv\\lib\\site-packages (from matplotlib>=3->pymoo>=0.6.0.1->nncf) (6.1.0)\n",
      "Requirement already satisfied: six>=1.5 in c:\\users\\krzys\\documents\\github\\wbudowane-systemy-ai\\.venv\\lib\\site-packages (from python-dateutil>=2.8.2->pandas<2.1,>=1.1.5->nncf) (1.16.0)\n",
      "Requirement already satisfied: about-time==4.2.1 in c:\\users\\krzys\\documents\\github\\wbudowane-systemy-ai\\.venv\\lib\\site-packages (from alive-progress->pymoo>=0.6.0.1->nncf) (4.2.1)\n",
      "Requirement already satisfied: grapheme==0.6.0 in c:\\users\\krzys\\documents\\github\\wbudowane-systemy-ai\\.venv\\lib\\site-packages (from alive-progress->pymoo>=0.6.0.1->nncf) (0.6.0)\n",
      "Requirement already satisfied: wrapt<2,>=1.10 in c:\\users\\krzys\\documents\\github\\wbudowane-systemy-ai\\.venv\\lib\\site-packages (from Deprecated->pymoo>=0.6.0.1->nncf) (1.15.0)\n",
      "Requirement already satisfied: zipp>=3.1.0 in c:\\users\\krzys\\documents\\github\\wbudowane-systemy-ai\\.venv\\lib\\site-packages (from importlib-resources>=3.2.0->matplotlib>=3->pymoo>=0.6.0.1->nncf) (3.17.0)\n",
      "Requirement already satisfied: torch in c:\\users\\krzys\\documents\\github\\wbudowane-systemy-ai\\.venv\\lib\\site-packages (2.1.0)\n",
      "Requirement already satisfied: filelock in c:\\users\\krzys\\documents\\github\\wbudowane-systemy-ai\\.venv\\lib\\site-packages (from torch) (3.12.4)\n",
      "Requirement already satisfied: typing-extensions in c:\\users\\krzys\\documents\\github\\wbudowane-systemy-ai\\.venv\\lib\\site-packages (from torch) (4.8.0)\n",
      "Requirement already satisfied: sympy in c:\\users\\krzys\\documents\\github\\wbudowane-systemy-ai\\.venv\\lib\\site-packages (from torch) (1.12)\n",
      "Requirement already satisfied: networkx in c:\\users\\krzys\\documents\\github\\wbudowane-systemy-ai\\.venv\\lib\\site-packages (from torch) (2.8.2)\n",
      "Requirement already satisfied: jinja2 in c:\\users\\krzys\\documents\\github\\wbudowane-systemy-ai\\.venv\\lib\\site-packages (from torch) (3.1.2)\n",
      "Requirement already satisfied: fsspec in c:\\users\\krzys\\documents\\github\\wbudowane-systemy-ai\\.venv\\lib\\site-packages (from torch) (2023.10.0)\n",
      "Requirement already satisfied: MarkupSafe>=2.0 in c:\\users\\krzys\\documents\\github\\wbudowane-systemy-ai\\.venv\\lib\\site-packages (from jinja2->torch) (2.1.3)\n",
      "Requirement already satisfied: mpmath>=0.19 in c:\\users\\krzys\\documents\\github\\wbudowane-systemy-ai\\.venv\\lib\\site-packages (from sympy->torch) (1.3.0)\n",
      "Requirement already satisfied: torchvision in c:\\users\\krzys\\documents\\github\\wbudowane-systemy-ai\\.venv\\lib\\site-packages (0.16.0)\n",
      "Requirement already satisfied: numpy in c:\\users\\krzys\\documents\\github\\wbudowane-systemy-ai\\.venv\\lib\\site-packages (from torchvision) (1.24.4)\n",
      "Requirement already satisfied: requests in c:\\users\\krzys\\documents\\github\\wbudowane-systemy-ai\\.venv\\lib\\site-packages (from torchvision) (2.31.0)\n",
      "Requirement already satisfied: torch==2.1.0 in c:\\users\\krzys\\documents\\github\\wbudowane-systemy-ai\\.venv\\lib\\site-packages (from torchvision) (2.1.0)\n",
      "Requirement already satisfied: pillow!=8.3.*,>=5.3.0 in c:\\users\\krzys\\documents\\github\\wbudowane-systemy-ai\\.venv\\lib\\site-packages (from torchvision) (10.1.0)\n",
      "Requirement already satisfied: filelock in c:\\users\\krzys\\documents\\github\\wbudowane-systemy-ai\\.venv\\lib\\site-packages (from torch==2.1.0->torchvision) (3.12.4)\n",
      "Requirement already satisfied: typing-extensions in c:\\users\\krzys\\documents\\github\\wbudowane-systemy-ai\\.venv\\lib\\site-packages (from torch==2.1.0->torchvision) (4.8.0)\n",
      "Requirement already satisfied: sympy in c:\\users\\krzys\\documents\\github\\wbudowane-systemy-ai\\.venv\\lib\\site-packages (from torch==2.1.0->torchvision) (1.12)\n",
      "Requirement already satisfied: networkx in c:\\users\\krzys\\documents\\github\\wbudowane-systemy-ai\\.venv\\lib\\site-packages (from torch==2.1.0->torchvision) (2.8.2)\n",
      "Requirement already satisfied: jinja2 in c:\\users\\krzys\\documents\\github\\wbudowane-systemy-ai\\.venv\\lib\\site-packages (from torch==2.1.0->torchvision) (3.1.2)\n",
      "Requirement already satisfied: fsspec in c:\\users\\krzys\\documents\\github\\wbudowane-systemy-ai\\.venv\\lib\\site-packages (from torch==2.1.0->torchvision) (2023.10.0)\n",
      "Requirement already satisfied: charset-normalizer<4,>=2 in c:\\users\\krzys\\documents\\github\\wbudowane-systemy-ai\\.venv\\lib\\site-packages (from requests->torchvision) (3.3.1)\n",
      "Requirement already satisfied: idna<4,>=2.5 in c:\\users\\krzys\\documents\\github\\wbudowane-systemy-ai\\.venv\\lib\\site-packages (from requests->torchvision) (3.4)\n",
      "Requirement already satisfied: urllib3<3,>=1.21.1 in c:\\users\\krzys\\documents\\github\\wbudowane-systemy-ai\\.venv\\lib\\site-packages (from requests->torchvision) (2.0.7)\n",
      "Requirement already satisfied: certifi>=2017.4.17 in c:\\users\\krzys\\documents\\github\\wbudowane-systemy-ai\\.venv\\lib\\site-packages (from requests->torchvision) (2023.7.22)\n",
      "Requirement already satisfied: MarkupSafe>=2.0 in c:\\users\\krzys\\documents\\github\\wbudowane-systemy-ai\\.venv\\lib\\site-packages (from jinja2->torch==2.1.0->torchvision) (2.1.3)\n",
      "Requirement already satisfied: mpmath>=0.19 in c:\\users\\krzys\\documents\\github\\wbudowane-systemy-ai\\.venv\\lib\\site-packages (from sympy->torch==2.1.0->torchvision) (1.3.0)\n",
      "Requirement already satisfied: matplotlib in c:\\users\\krzys\\documents\\github\\wbudowane-systemy-ai\\.venv\\lib\\site-packages (3.8.0)\n",
      "Requirement already satisfied: contourpy>=1.0.1 in c:\\users\\krzys\\documents\\github\\wbudowane-systemy-ai\\.venv\\lib\\site-packages (from matplotlib) (1.1.1)\n",
      "Requirement already satisfied: cycler>=0.10 in c:\\users\\krzys\\documents\\github\\wbudowane-systemy-ai\\.venv\\lib\\site-packages (from matplotlib) (0.12.1)\n",
      "Requirement already satisfied: fonttools>=4.22.0 in c:\\users\\krzys\\documents\\github\\wbudowane-systemy-ai\\.venv\\lib\\site-packages (from matplotlib) (4.43.1)\n",
      "Requirement already satisfied: kiwisolver>=1.0.1 in c:\\users\\krzys\\documents\\github\\wbudowane-systemy-ai\\.venv\\lib\\site-packages (from matplotlib) (1.4.5)\n",
      "Requirement already satisfied: numpy<2,>=1.21 in c:\\users\\krzys\\documents\\github\\wbudowane-systemy-ai\\.venv\\lib\\site-packages (from matplotlib) (1.24.4)\n",
      "Requirement already satisfied: packaging>=20.0 in c:\\users\\krzys\\documents\\github\\wbudowane-systemy-ai\\.venv\\lib\\site-packages (from matplotlib) (23.2)\n",
      "Requirement already satisfied: pillow>=6.2.0 in c:\\users\\krzys\\documents\\github\\wbudowane-systemy-ai\\.venv\\lib\\site-packages (from matplotlib) (10.1.0)\n",
      "Requirement already satisfied: pyparsing>=2.3.1 in c:\\users\\krzys\\documents\\github\\wbudowane-systemy-ai\\.venv\\lib\\site-packages (from matplotlib) (2.4.7)\n",
      "Requirement already satisfied: python-dateutil>=2.7 in c:\\users\\krzys\\documents\\github\\wbudowane-systemy-ai\\.venv\\lib\\site-packages (from matplotlib) (2.8.2)\n",
      "Requirement already satisfied: importlib-resources>=3.2.0 in c:\\users\\krzys\\documents\\github\\wbudowane-systemy-ai\\.venv\\lib\\site-packages (from matplotlib) (6.1.0)\n",
      "Requirement already satisfied: zipp>=3.1.0 in c:\\users\\krzys\\documents\\github\\wbudowane-systemy-ai\\.venv\\lib\\site-packages (from importlib-resources>=3.2.0->matplotlib) (3.17.0)\n",
      "Requirement already satisfied: six>=1.5 in c:\\users\\krzys\\documents\\github\\wbudowane-systemy-ai\\.venv\\lib\\site-packages (from python-dateutil>=2.7->matplotlib) (1.16.0)\n",
      "Requirement already satisfied: tqdm in c:\\users\\krzys\\documents\\github\\wbudowane-systemy-ai\\.venv\\lib\\site-packages (4.66.1)\n",
      "Requirement already satisfied: colorama in c:\\users\\krzys\\documents\\github\\wbudowane-systemy-ai\\.venv\\lib\\site-packages (from tqdm) (0.4.6)\n"
     ]
    }
   ],
   "source": [
    "!pip3 install openvino\n",
    "!pip3 install nncf\n",
    "!pip3 install torch\n",
    "!pip3 install torchvision\n",
    "!pip3 install matplotlib\n",
    "!pip3 install tqdm"
   ]
  },
  {
   "cell_type": "code",
   "execution_count": 2,
   "metadata": {
    "id": "1n_xcqlrsaMY"
   },
   "outputs": [
    {
     "name": "stdout",
     "output_type": "stream",
     "text": [
      "INFO:nncf:NNCF initialized successfully. Supported frameworks detected: torch, tensorflow, openvino\n",
      "WARNING:nncf:NNCF provides best results with torch==2.0.1, while current torch version is 2.1.0+cpu. If you encounter issues, consider switching to torch==2.0.1\n"
     ]
    },
    {
     "name": "stderr",
     "output_type": "stream",
     "text": [
      "No CUDA runtime is found, using CUDA_HOME='C:\\Program Files\\NVIDIA GPU Computing Toolkit\\CUDA\\v12.1'\n"
     ]
    }
   ],
   "source": [
    "import torch\n",
    "import nncf\n",
    "import openvino as ov\n",
    "import time\n",
    "import numpy as np\n",
    "import tqdm\n",
    "import os\n",
    "\n",
    "from nncf import NNCFConfig\n",
    "from nncf.torch import create_compressed_model, register_default_init_args\n",
    "from openvino.runtime.ie_api import CompiledModel\n",
    "from torch import nn\n",
    "from torch.utils.data import DataLoader\n",
    "from torchvision import datasets\n",
    "from torchvision.transforms import ToTensor, RandomRotation\n",
    "from typing import Union, List, Tuple, Any\n",
    "from abc import ABC, abstractmethod\n"
   ]
  },
  {
   "cell_type": "code",
   "execution_count": 3,
   "metadata": {},
   "outputs": [],
   "source": [
    "#disable nncf errors\n",
    "import logging\n",
    "# Get the logger for the specific library or use 'root' to set it globally\n",
    "logger = logging.getLogger('nncf')  # Replace 'nncf' with the specific name if it's different\n",
    "# Set the logging level to WARNING to suppress INFO and DEBUG messages\n",
    "logger.setLevel(logging.WARNING)"
   ]
  },
  {
   "cell_type": "markdown",
   "metadata": {
    "id": "vEGYhjeZ453d"
   },
   "source": [
    "Let's start with...\n",
    "\n",
    "##Quantizing Models Post-training\n",
    "\n",
    "Post-training model optimization is the process of applying special methods that transform the model into a more hardware-friendly representation without retraining or fine-tuning. The most popular and widely-spread method here is 8-bit post-training quantization because it is:\n",
    "\n",
    "- It is easy-to-use.\n",
    "- It does not hurt accuracy a lot.\n",
    "- It provides significant performance improvement.\n",
    "- It suites many hardware available in stock since most of them support 8-bit computation natively.\n",
    "\n",
    "8-bit integer quantization lowers the precision of weights and activations to 8 bits, which leads to significant reduction in the model footprint and significant improvements in inference speed.\n",
    "\n",
    "Source: https://docs.openvino.ai/2023.0/ptq_introduction.html\n",
    "\n",
    "So first! We need a model to quantize.\n",
    "Reuse the CNN model from Laboratory 1 (along with training loops, metics, optimazers and loss function).\n",
    "\n",
    "Train it for 5 epochs with MNIST dataset. You should get around ~90% accuracy.\n",
    "\n",
    "Name the final trained model `CNN_MNIST`"
   ]
  },
  {
   "cell_type": "code",
   "execution_count": 4,
   "metadata": {
    "id": "7cnaAnDMsovx"
   },
   "outputs": [
    {
     "name": "stdout",
     "output_type": "stream",
     "text": [
      "Epoch 1/5 => Train loss: 0.1213, Train accuracy: 96.28% | Test loss: 0.0349, Test accuracy: 98.80%\n",
      "Epoch 2/5 => Train loss: 0.0394, Train accuracy: 98.79% | Test loss: 0.0250, Test accuracy: 99.15%\n",
      "Epoch 3/5 => Train loss: 0.0271, Train accuracy: 99.15% | Test loss: 0.0390, Test accuracy: 98.74%\n",
      "Epoch 4/5 => Train loss: 0.0192, Train accuracy: 99.39% | Test loss: 0.0444, Test accuracy: 98.79%\n",
      "Epoch 5/5 => Train loss: 0.0142, Train accuracy: 99.54% | Test loss: 0.0286, Test accuracy: 99.16%\n"
     ]
    }
   ],
   "source": [
    "import os\n",
    "import torch\n",
    "import torch.nn as nn\n",
    "import torch.nn.functional as F\n",
    "from torch.optim import Adam\n",
    "from torchvision import datasets, transforms\n",
    "\n",
    "# Define the CNN model\n",
    "class CNN(nn.Module):\n",
    "    def __init__(self, input_channels=1):\n",
    "        super(CNN, self).__init__()\n",
    "        self.conv1 = nn.Conv2d(input_channels, 32, kernel_size=5, padding=2)\n",
    "        self.conv2 = nn.Conv2d(32, 64, kernel_size=5, padding=2)\n",
    "        self.fc1 = nn.Linear(64*7*7 if input_channels==1 else 64*8*8, 128)  # MNIST is 28x28, CIFAR10 is 32x32\n",
    "        self.fc2 = nn.Linear(128, 10)\n",
    "        \n",
    "    def forward(self, x):\n",
    "        x = F.relu(self.conv1(x))\n",
    "        x = F.max_pool2d(x, 2)\n",
    "        x = F.relu(self.conv2(x))\n",
    "        x = F.max_pool2d(x, 2)\n",
    "        x = x.view(x.size(0), -1)\n",
    "        x = F.relu(self.fc1(x))\n",
    "        x = self.fc2(x)\n",
    "        return F.log_softmax(x, dim=1)\n",
    "\n",
    "# Choose Dataset: 'MNIST' or 'CIFAR10'\n",
    "dataset_choice = 'MNIST'  # You can change this to 'MNIST' if needed\n",
    "\n",
    "# Set device\n",
    "torch_device = torch.device(\"cuda\" if torch.cuda.is_available() else \"cpu\")\n",
    "\n",
    "# Prepare datasets and dataloaders\n",
    "transform = transforms.Compose([transforms.ToTensor()])\n",
    "\n",
    "if dataset_choice == 'MNIST':\n",
    "    train_dataset = datasets.MNIST(root=\"./data\", train=True, transform=transform, download=True)\n",
    "    test_dataset = datasets.MNIST(root=\"./data\", train=False, transform=transform)\n",
    "    input_channels = 1\n",
    "else:\n",
    "    transform.transforms.append(transforms.Normalize((0.5, 0.5, 0.5), (0.5, 0.5, 0.5)))\n",
    "    train_dataset = datasets.CIFAR10(root=\"./data\", train=True, transform=transform, download=True)\n",
    "    test_dataset = datasets.CIFAR10(root=\"./data\", train=False, transform=transform)\n",
    "    input_channels = 3\n",
    "\n",
    "train_loader = torch.utils.data.DataLoader(train_dataset, batch_size=32, shuffle=True)\n",
    "test_loader = torch.utils.data.DataLoader(test_dataset, batch_size=32, shuffle=False)\n",
    "\n",
    "# Model, metric, loss, and optimizer\n",
    "CNN_Model = CNN(input_channels=input_channels).to(torch_device)\n",
    "metric = nn.CrossEntropyLoss()\n",
    "loss_fcn = nn.CrossEntropyLoss().to(torch_device)\n",
    "optimizer = Adam(CNN_Model.parameters(), lr=0.001)\n",
    "\n",
    "# Train and test loops\n",
    "def train_test_pass(model, data_loader, loss_function, opt=None):\n",
    "    is_train = model.training\n",
    "    total_loss = 0.0\n",
    "    correct_preds = 0\n",
    "    \n",
    "    for inputs, targets in data_loader:\n",
    "        inputs, targets = inputs.to(torch_device), targets.to(torch_device)\n",
    "        outputs = model(inputs)\n",
    "        loss = loss_function(outputs, targets)\n",
    "        total_loss += loss.item() * inputs.size(0)\n",
    "        \n",
    "        if is_train:\n",
    "            opt.zero_grad()\n",
    "            loss.backward()\n",
    "            opt.step()\n",
    "        \n",
    "        _, preds = torch.max(outputs, 1)\n",
    "        correct_preds += (preds == targets).sum().item()\n",
    "    \n",
    "    avg_loss = total_loss / len(data_loader.dataset)\n",
    "    accuracy = 100.0 * correct_preds / len(data_loader.dataset)\n",
    "    \n",
    "    return avg_loss, accuracy\n",
    "\n",
    "def training(model, train_dl, test_dl, loss_fcn, optimizer, epochs=5):\n",
    "    history = {\"train_loss\": [], \"train_accuracy\": [], \"test_loss\": [], \"test_accuracy\": []}\n",
    "    for epoch in range(epochs):\n",
    "        model.train()\n",
    "        train_loss, train_accuracy = train_test_pass(model, train_dl, loss_fcn, optimizer)\n",
    "        history[\"train_loss\"].append(train_loss)\n",
    "        history[\"train_accuracy\"].append(train_accuracy)\n",
    "        \n",
    "        model.eval()\n",
    "        with torch.no_grad():\n",
    "            test_loss, test_accuracy = train_test_pass(model, test_dl, loss_fcn)\n",
    "            history[\"test_loss\"].append(test_loss)\n",
    "            history[\"test_accuracy\"].append(test_accuracy)\n",
    "        \n",
    "        print(f\"Epoch {epoch+1}/{epochs} => \"\n",
    "              f\"Train loss: {train_loss:.4f}, Train accuracy: {train_accuracy:.2f}% | \"\n",
    "              f\"Test loss: {test_loss:.4f}, Test accuracy: {test_accuracy:.2f}%\")\n",
    "    return model, history\n",
    "\n",
    "# File path to save and load the model\n",
    "MODEL_PATH = \"CNN_MNIST_model.pth\"\n",
    "\n",
    "# # Check if the model file exists\n",
    "# if os.path.exists(MODEL_PATH):\n",
    "#     # Load the model from the saved file\n",
    "#     CNN_Model.load_state_dict(torch.load(MODEL_PATH))\n",
    "#     print(\"Model loaded from file.\")\n",
    "# else:\n",
    "#     pass\n",
    "#     # Train the model\n",
    "#     CNN_Model, history = training(CNN_Model, train_loader, test_loader, loss_fcn, optimizer, epochs=5)\n",
    "#     # Save the trained model\n",
    "#     torch.save(CNN_Model.state_dict(), MODEL_PATH)\n",
    "#     print(f\"Model saved to {MODEL_PATH}.\")\n",
    "CNN_Model, history = training(CNN_Model, train_loader, test_loader, loss_fcn, optimizer, epochs=5)"
   ]
  },
  {
   "cell_type": "markdown",
   "metadata": {
    "id": "d3rFVqhg8Yd0"
   },
   "source": [
    "Now - we will quantize this model to INT8.\n",
    "\n",
    "NNCF enables post-training quantization (PTQ) by adding the quantization layers into the model graph and then using a subset of the training dataset to initialize the parameters of these additional quantization layers.\n",
    "\n",
    "By default PTQ uses an unannotated dataset to perform quantization. It uses representative dataset items to estimate the range of activation values in a network and then quantizes the network.\n",
    "\n",
    "Create an instance of `nncf.Dataset` class by passing two parameters:\n",
    "- data_source (PyTorch loader containing training samples)\n",
    "- transform_fn (to make data suitable for API).\n",
    "\n",
    "Call this instance `calibration_dataset`.\n",
    "\n",
    "Then, quantize `CNN_MNIST` model with `nncf.quantize()` function, which takes as input two parameters - the model and `calibration_dataset`. Call it `quantized_model`"
   ]
  },
  {
   "cell_type": "code",
   "execution_count": 5,
   "metadata": {
    "id": "uWIfq-YZtbVY"
   },
   "outputs": [
    {
     "name": "stdout",
     "output_type": "stream",
     "text": [
      "WARNING:nncf:Could not compile CPU quantization extensions. Falling back on torch native operations - CPU quantization fine-tuning may be slower than expected.\n",
      "Reason: Command '['where', 'cl']' returned non-zero exit status 1.\n"
     ]
    },
    {
     "name": "stderr",
     "output_type": "stream",
     "text": [
      "c:\\Users\\krzys\\Documents\\GitHub\\Wbudowane-systemy-AI\\.venv\\lib\\site-packages\\torch\\utils\\cpp_extension.py:383: UserWarning: Error checking compiler version for cl: [WinError 2] Nie można odnaleźć określonego pliku\n",
      "  warnings.warn(f'Error checking compiler version for {compiler}: {error}')\n"
     ]
    }
   ],
   "source": [
    "# Define the transformation function for the calibration dataset\n",
    "def transform_fn(data_item):\n",
    "    images, _ = data_item\n",
    "    return images\n",
    "\n",
    "# Create the calibration dataset\n",
    "calibration_dataset = nncf.Dataset(train_loader, transform_fn)\n",
    "\n",
    "# Quantize the CNN_MNIST model\n",
    "quantized_model = nncf.quantize(model=CNN_Model, calibration_dataset=calibration_dataset)\n"
   ]
  },
  {
   "cell_type": "code",
   "execution_count": 6,
   "metadata": {},
   "outputs": [],
   "source": [
    "from abc import ABC, abstractmethod\n",
    "from typing import Any\n",
    "\n",
    "class BaseMetic(ABC):\n",
    "\n",
    "    @abstractmethod\n",
    "    def __call__(self, y_pred, y_ref) -> Any:\n",
    "        raise NotImplementedError()\n",
    "\n",
    "class AccuracyMetic(BaseMetic):\n",
    "\n",
    "    def __init__(self) -> None:\n",
    "        pass\n",
    "\n",
    "    @torch.no_grad()\n",
    "    def __call__(self, y_pred: torch.Tensor, y_ref: torch.Tensor) -> torch.Tensor:\n",
    "        \"\"\"\n",
    "        :param y_pred: tensor of shape (batch_size, num_of_classes) type float\n",
    "        :param y_ref: tensor with shape (batch_size,) and type Long\n",
    "        :return: scalar tensor with accuracy metric for batch\n",
    "        \"\"\"\n",
    "        # Get the predicted class indices by taking argmax along dimension 1\n",
    "        predicted_classes = torch.argmax(y_pred, dim=1)\n",
    "\n",
    "        # Calculate the accuracy by comparing predicted and reference labels\n",
    "        correct_predictions = (predicted_classes == y_ref).sum().item()\n",
    "        total_samples = y_ref.size(0)\n",
    "\n",
    "        # Compute the accuracy as a scalar tensor\n",
    "        accuracy = torch.tensor(correct_predictions / total_samples, dtype=torch.float32)\n",
    "\n",
    "        return accuracy\n",
    "\n",
    "\n",
    "metric = AccuracyMetic()"
   ]
  },
  {
   "cell_type": "markdown",
   "metadata": {
    "id": "3-khBK9_BfQ1"
   },
   "source": [
    "Finally, we will convert modes to OpenVINO Intermediate Representation (IR) format.\n",
    "\n",
    "OpenVINO IR is the proprietary model format of OpenVINO. It is produced after converting a model with model conversion API. Model conversion API translates the frequently used deep learning operations to their respective similar representation in OpenVINO and tunes them with the associated weights and biases from the trained model. The resulting IR contains two files:\n",
    "- `xml` - Describes the model topology.\n",
    "- `bin` - Contains the weights and binary data.\n",
    "\n",
    "To do that, we'll need `dummy_input` filled with random values and of size:\n",
    "\n",
    "`[batch_size, channel_number, image_shape[0], image_shape[1]]`\n",
    "\n",
    "Create `MNIST_fp32_ir` model with `ov.convert_model` that takes three parameters: the model, the dummy input and input size. Use `CNN_MNIST` model.\n",
    "\n",
    "Then, create `MNIST_int8_ir` model in the same way using `quantized_model`.\n",
    "\n",
    "Save both models to files (named `MNIST_fp32_ir.xml` and `MNIST_int8_ir.xml` respectively. Use `ov.save_model()` function.\n",
    "\n",
    "Finally - compile both models with `core.compile_model` function and use  `validate` function to calculate both models accuracy."
   ]
  },
  {
   "cell_type": "code",
   "execution_count": 7,
   "metadata": {
    "id": "aFyeUI2DBehj"
   },
   "outputs": [
    {
     "name": "stdout",
     "output_type": "stream",
     "text": [
      "WARNING:tensorflow:Please fix your imports. Module tensorflow.python.training.tracking.base has been moved to tensorflow.python.trackable.base. The old module will be deleted in version 2.11.\n"
     ]
    },
    {
     "name": "stderr",
     "output_type": "stream",
     "text": [
      "[ WARNING ]  Please fix your imports. Module %s has been moved to %s. The old module will be deleted in version %s.\n"
     ]
    },
    {
     "name": "stderr",
     "output_type": "stream",
     "text": [
      "c:\\Users\\krzys\\Documents\\GitHub\\Wbudowane-systemy-AI\\.venv\\lib\\site-packages\\nncf\\torch\\quantization\\layers.py:336: TracerWarning: Converting a tensor to a Python number might cause the trace to be incorrect. We can't record the data flow of Python values, so this value will be treated as a constant in the future. This means that the trace might not generalize to other inputs!\n",
      "  return self._level_low.item()\n",
      "c:\\Users\\krzys\\Documents\\GitHub\\Wbudowane-systemy-AI\\.venv\\lib\\site-packages\\nncf\\torch\\quantization\\layers.py:344: TracerWarning: Converting a tensor to a Python number might cause the trace to be incorrect. We can't record the data flow of Python values, so this value will be treated as a constant in the future. This means that the trace might not generalize to other inputs!\n",
      "  return self._level_high.item()\n",
      "313it [00:01, 179.12it/s]\n"
     ]
    },
    {
     "name": "stdout",
     "output_type": "stream",
     "text": [
      "FP 32 model acc=0.9916\n"
     ]
    },
    {
     "name": "stderr",
     "output_type": "stream",
     "text": [
      "313it [00:01, 234.12it/s]"
     ]
    },
    {
     "name": "stdout",
     "output_type": "stream",
     "text": [
      "INT 8 model acc=0.9917\n"
     ]
    },
    {
     "name": "stderr",
     "output_type": "stream",
     "text": [
      "\n"
     ]
    }
   ],
   "source": [
    "# 1. Create a dummy input for the model.\n",
    "# Assuming MNIST images are 1x28x28 and a batch size of 32\n",
    "dummy_input = torch.randn(32, 1, 28, 28)\n",
    "\n",
    "# 2. Convert models to OpenVINO IR format\n",
    "MNIST_fp32_ir = ov.convert_model(CNN_Model, example_input=dummy_input, input=[-1, 1, 28, 28])\n",
    "MNIST_int8_ir = ov.convert_model(quantized_model, example_input=dummy_input, input=[-1, 1, 28, 28])\n",
    "\n",
    "# 3. Save models to XML files\n",
    "ov.save_model(MNIST_fp32_ir, \"MNIST_fp32_ir.xml\")\n",
    "ov.save_model(MNIST_int8_ir, \"MNIST_int8_ir.xml\")\n",
    "\n",
    "# 4. Compile models\n",
    "core = ov.Core()\n",
    "devices = core.available_devices\n",
    "fp32_compiled_model = core.compile_model(MNIST_fp32_ir, devices[0])\n",
    "int8_compiled_model = core.compile_model(MNIST_int8_ir, devices[0])\n",
    "\n",
    "\n",
    "def validate(val_loader: torch.utils.data.DataLoader, model: Union[torch.nn.Module, CompiledModel], metric: AccuracyMetic):\n",
    "\n",
    "    # Switch to evaluate mode.\n",
    "    if not isinstance(model, CompiledModel):\n",
    "        model.eval()\n",
    "        model.to(torch_device)\n",
    "    total_accuracy = 0\n",
    "    samples_num = 0\n",
    "    with torch.no_grad():\n",
    "        end = time.time()\n",
    "        for i, (images, target) in tqdm.tqdm(enumerate(val_loader)):\n",
    "            images = images.to(torch_device)\n",
    "            target = target.to(torch_device)\n",
    "\n",
    "            # Compute the output.\n",
    "            if isinstance(model, CompiledModel):\n",
    "                output_layer = model.output(0)\n",
    "                output = model(images)[output_layer]\n",
    "                output = torch.from_numpy(output)\n",
    "            else:\n",
    "                output = model(images)\n",
    "\n",
    "            # Measure accuracy and record loss.\n",
    "            accuracy = metric(output, target)\n",
    "            total_accuracy += accuracy.item() * target.shape[0]\n",
    "            samples_num += target.shape[0]\n",
    "\n",
    "    return total_accuracy / samples_num\n",
    "\n",
    "\n",
    "# 5. Calculate and print accuracy for both models using the validate function\n",
    "acc1 = validate(test_loader, fp32_compiled_model, metric)\n",
    "print(f'FP 32 model acc={acc1:.4f}')\n",
    "\n",
    "acc2 = validate(test_loader, int8_compiled_model, metric)\n",
    "print(f'INT 8 model acc={acc2:.4f}')"
   ]
  },
  {
   "cell_type": "markdown",
   "metadata": {
    "id": "lpb_tq9yEKBg"
   },
   "source": [
    "Is INT8 model accuracy similar to FP32 model accuracy? We should hope so!\n",
    "\n",
    "But let's verify what we have saved in terms of memory resources and network throughput!\n",
    "\n",
    "First, check the size of OpenVINO IR binary files. You saved both of them on your drive. Is the INT8 model smaller?"
   ]
  },
  {
   "cell_type": "code",
   "execution_count": 8,
   "metadata": {
    "id": "UkT2VQWOy0BZ"
   },
   "outputs": [
    {
     "name": "stdout",
     "output_type": "stream",
     "text": [
      "Size of FP32 model: 0.87 MB\n",
      "Size of INT8 model: 0.43 MB\n",
      "Compression ratio: 2.00\n"
     ]
    }
   ],
   "source": [
    "# !ls -lh MNIST_fp32_ir.bin\n",
    "# !ls -lh MNIST_int8_ir.bin\n",
    "import os\n",
    "\n",
    "# Get file sizes\n",
    "size_fp32 = os.path.getsize(\"MNIST_fp32_ir.bin\")\n",
    "size_int8 = os.path.getsize(\"MNIST_int8_ir.bin\")\n",
    "\n",
    "# Calculate the compression ratio\n",
    "compression_ratio = size_fp32 / size_int8\n",
    "\n",
    "print(f\"Size of FP32 model: {size_fp32 / (1024 * 1024):.2f} MB\")\n",
    "print(f\"Size of INT8 model: {size_int8 / (1024 * 1024):.2f} MB\")\n",
    "print(f\"Compression ratio: {compression_ratio:.2f}\")\n"
   ]
  },
  {
   "cell_type": "markdown",
   "metadata": {
    "id": "6vp6wdbtFD6C"
   },
   "source": [
    "Then, use the following code to benchmark both models. Is INT8 model faster?"
   ]
  },
  {
   "cell_type": "code",
   "execution_count": 9,
   "metadata": {
    "id": "jQPqCagntsHK"
   },
   "outputs": [
    {
     "name": "stdout",
     "output_type": "stream",
     "text": [
      "Benchmark FP32 model on CPU\n",
      "[ INFO ] Throughput:   16892.43 FPS\n",
      "Benchmark INT8 model on CPU\n",
      "[ INFO ] Throughput:   22529.36 FPS\n",
      "Benchmark FP32 model on GPU\n",
      "[ INFO ] Throughput:   4872.17 FPS\n",
      "Benchmark INT8 model on GPU\n",
      "[ INFO ] Throughput:   4316.03 FPS\n"
     ]
    }
   ],
   "source": [
    "# def parse_benchmark_output(benchmark_output: str):\n",
    "#     \"\"\"Prints the output from benchmark_app in human-readable format\"\"\"\n",
    "#     parsed_output = [line for line in benchmark_output if 'FPS' in line]\n",
    "#     print(*parsed_output, sep='\\n')\n",
    "\n",
    "\n",
    "# print('Benchmark FP32 model on CPU')\n",
    "# benchmark_output = ! benchmark_app -m MNIST_fp32_ir.xml -d CPU -api async -t 15 -shape \"[1, 1, 28, 28]\"\n",
    "# parse_benchmark_output(benchmark_output)\n",
    "\n",
    "# print('Benchmark INT8 model on CPU')\n",
    "# benchmark_output = ! benchmark_app -m MNIST_int8_ir.xml -d CPU -api async -t 15 -shape \"[1, 1, 28, 28]\"\n",
    "# parse_benchmark_output(benchmark_output)\n",
    "\n",
    "import subprocess\n",
    "\n",
    "def parse_benchmark_output(benchmark_output: str):\n",
    "    \"\"\"Prints the output from benchmark_app in human-readable format\"\"\"\n",
    "    parsed_output = [line for line in benchmark_output.decode('utf-8').split('\\n') if 'FPS' in line]\n",
    "    print(*parsed_output, sep='\\n')\n",
    "\n",
    "def run_benchmark(model_file: str, device: str = \"CPU\"):\n",
    "    \"\"\"Runs benchmark_app for a given model on the specified device and returns its output\"\"\"\n",
    "    command = [\n",
    "        \"benchmark_app\",\n",
    "        \"-m\", model_file,\n",
    "        \"-d\", device,\n",
    "        \"-api\", \"async\",\n",
    "        \"-t\", \"5\",\n",
    "        \"-shape\", \"[1, 1, 28, 28]\"\n",
    "    ]\n",
    "    result = subprocess.run(command, stdout=subprocess.PIPE, stderr=subprocess.PIPE)\n",
    "    return result.stdout\n",
    "\n",
    "\n",
    "print('Benchmark FP32 model on CPU')\n",
    "benchmark_output = run_benchmark(\"MNIST_fp32_ir.xml\")\n",
    "parse_benchmark_output(benchmark_output)\n",
    "\n",
    "print('Benchmark INT8 model on CPU')\n",
    "benchmark_output = run_benchmark(\"MNIST_int8_ir.xml\")\n",
    "parse_benchmark_output(benchmark_output)\n",
    "\n",
    "print('Benchmark FP32 model on GPU')\n",
    "benchmark_output = run_benchmark(\"MNIST_fp32_ir.xml\", device=\"GPU\")\n",
    "parse_benchmark_output(benchmark_output)\n",
    "\n",
    "print('Benchmark INT8 model on GPU')\n",
    "benchmark_output = run_benchmark(\"MNIST_int8_ir.xml\", device=\"GPU\")\n",
    "parse_benchmark_output(benchmark_output)"
   ]
  },
  {
   "cell_type": "markdown",
   "metadata": {
    "id": "RPe2aECWFmqF"
   },
   "source": [
    "Note, that we used very small network and we deal with very simple task. For bigger models and harder networks the perfomance and size differences can be even more significant!\n",
    "\n",
    "***Extention exercises***\n",
    "\n",
    "Read about `Quantizing with Accuracy Control` and try to use it for some pretrained network. Use `nncf.quantize_with_accuracy_control`. You can find pretrained networks with `torchvision.models`"
   ]
  },
  {
   "cell_type": "markdown",
   "metadata": {
    "id": "YpPQPePcGoDL"
   },
   "source": [
    "## Quantization-aware Training (QAT)\n",
    "\n",
    "Training-time model compression improves model performance by applying optimizations (such as quantization) during the training. The training process minimizes the loss associated with the lower-precision optimizations, so it is able to maintain the model’s accuracy while reducing its latency and memory footprint. Generally, training-time model optimization results in better model performance and accuracy than post-training optimization, but it can require more effort to set up.\n",
    "\n",
    "Quantization-aware Training is a popular method that allows quantizing a model and applying fine-tuning to restore accuracy degradation caused by quantization. In fact, this is the most accurate quantization method."
   ]
  },
  {
   "cell_type": "markdown",
   "metadata": {
    "id": "p4ns4TqBHTM_"
   },
   "source": [
    "For this part, let's use a bit harder Dataset. For MNIST, PTQ method was enough, right?\n",
    "\n",
    "Train your CNN model on CIFAR10 dataset for 10-20 epochs (google it!). Use the same training loops, metics, optimazers and loss function.\n",
    "\n",
    "Name the final trained model `CNN_CIFAR`, convert it to OpenVino IR and save to xml file.\n",
    "\n",
    "We start our QAT process with creating compressed models. Just use the following code (fill in the gaps)."
   ]
  },
  {
   "cell_type": "code",
   "execution_count": 10,
   "metadata": {
    "id": "xdNDbJp09l3Q"
   },
   "outputs": [
    {
     "name": "stdout",
     "output_type": "stream",
     "text": [
      "Files already downloaded and verified\n",
      "Files already downloaded and verified\n",
      "Epoch 1/5 => Train loss: 1.8311, Train accuracy: 33.80% | Test loss: 1.6774, Test accuracy: 39.71%\n",
      "Epoch 2/5 => Train loss: 1.6161, Train accuracy: 41.32% | Test loss: 1.5918, Test accuracy: 41.90%\n",
      "Epoch 3/5 => Train loss: 1.5601, Train accuracy: 43.91% | Test loss: 1.5640, Test accuracy: 44.64%\n",
      "Epoch 4/5 => Train loss: 1.5141, Train accuracy: 45.11% | Test loss: 1.5337, Test accuracy: 45.29%\n",
      "Epoch 5/5 => Train loss: 1.4775, Train accuracy: 46.61% | Test loss: 1.4903, Test accuracy: 48.05%\n",
      "WARNING:nncf:Enabling quantization range initialization with default parameters.\n"
     ]
    }
   ],
   "source": [
    "import torchvision.transforms as transforms\n",
    "\n",
    "# Set up CIFAR10 data loading\n",
    "transform = transforms.Compose([\n",
    "    transforms.ToTensor(),\n",
    "    transforms.Normalize((0.5, 0.5, 0.5), (0.5, 0.5, 0.5))\n",
    "])\n",
    "train_dataset = datasets.CIFAR10(root='./data', train=True, download=True, transform=transform)\n",
    "test_dataset = datasets.CIFAR10(root='./data', train=False, download=True, transform=transform)\n",
    "\n",
    "train_loader = DataLoader(train_dataset, batch_size=64, shuffle=True)\n",
    "test_loader = DataLoader(test_dataset, batch_size=64, shuffle=False)\n",
    "\n",
    "# Define the loss function and optimizer\n",
    "loss_fcn = torch.nn.CrossEntropyLoss()\n",
    "CNN_CIFAR= CNN(input_channels=3).to(torch_device)\n",
    "optimizer = torch.optim.Adam(CNN_CIFAR.parameters(), lr=0.01)\n",
    "\n",
    "# Train the CNN model using CIFAR10\n",
    "CNN_CIFAR, history = training(CNN_CIFAR, train_loader, test_loader, loss_fcn, optimizer, epochs=5)\n",
    "\n",
    "# Convert trained model to OpenVINO IR and save\n",
    "dummy_input = torch.randn([1, 3, 32, 32])  # CIFAR10 images are 3x32x32\n",
    "CIFAR_fp32_ir = ov.convert_model(CNN_CIFAR, example_input=dummy_input, input=[-1, 3, 32, 32])\n",
    "ov.save_model(CIFAR_fp32_ir, \"CIFAR_fp32_ir.xml\")\n",
    "\n",
    "# Compress model using NNCF for Quantization-aware Training\n",
    "nncf_config_dict = {\n",
    "    \"input_info\": {\"sample_size\": [1, 3, 32, 32]},\n",
    "    \"compression\": {\n",
    "        \"algorithm\": \"quantization\",\n",
    "    },\n",
    "}\n",
    "nncf_config = NNCFConfig.from_dict(nncf_config_dict)\n",
    "nncf_config = register_default_init_args(nncf_config, train_loader)\n",
    "compression_ctrl, CNN_CIFAR_int8 = create_compressed_model(CNN_CIFAR, nncf_config)\n"
   ]
  },
  {
   "cell_type": "markdown",
   "metadata": {
    "id": "wetn5RnaZzGx"
   },
   "source": [
    "We have our CIFAR CNN model ready to QAT. So... Just train it!\n",
    "\n",
    "Use your `training` function to train `CNN_CIFAR_int8` model for one more epoch!\n",
    "\n",
    "Thanks to OpenVINO API, after creating compressed model all we need to do is to continue training on INT8 model :) We call this process fine-tuning. It is applied to futher improve quantized model accuracy! Normally, several epochs of tuning are required with a small learning rate, the same that is usually used at the end of the training of the original model. No other changes in the training pipeline are required."
   ]
  },
  {
   "cell_type": "code",
   "execution_count": 11,
   "metadata": {
    "id": "bj2Va0bwaW0i"
   },
   "outputs": [
    {
     "name": "stdout",
     "output_type": "stream",
     "text": [
      "Epoch 1/5 => Train loss: 1.3666, Train accuracy: 50.73% | Test loss: 1.4184, Test accuracy: 49.76%\n",
      "Epoch 2/5 => Train loss: 1.3199, Train accuracy: 52.19% | Test loss: 1.3999, Test accuracy: 50.62%\n",
      "Epoch 3/5 => Train loss: 1.2985, Train accuracy: 52.82% | Test loss: 1.3913, Test accuracy: 50.93%\n",
      "Epoch 4/5 => Train loss: 1.2843, Train accuracy: 53.30% | Test loss: 1.3839, Test accuracy: 51.17%\n",
      "Epoch 5/5 => Train loss: 1.2732, Train accuracy: 53.69% | Test loss: 1.3777, Test accuracy: 51.05%\n"
     ]
    }
   ],
   "source": [
    "# Define the loss function\n",
    "loss_fcn_finetune = torch.nn.CrossEntropyLoss()\n",
    "\n",
    "# Define the optimizer with a smaller learning rate for fine-tuning\n",
    "optimizer_finetune = torch.optim.Adam(CNN_CIFAR_int8.parameters(), lr=0.0001)\n",
    "\n",
    "# Fine-tuning the quantized model\n",
    "CNN_CIFAR_int8_finetuned, history = training(CNN_CIFAR_int8, train_loader, test_loader, loss_fcn_finetune, optimizer_finetune, epochs=5)"
   ]
  },
  {
   "cell_type": "markdown",
   "metadata": {
    "id": "XKp3LbjUbBg-"
   },
   "source": [
    "Convert fine-tuned model to OpenVinoIR, save it to xml and verify both `CIFAR_fp32_ir` and `CIFAR_int8_ir` sizes.\n",
    "\n",
    "Is the INT8 network smaller?"
   ]
  },
  {
   "cell_type": "code",
   "execution_count": 12,
   "metadata": {
    "id": "MigLfK-pLVqA"
   },
   "outputs": [
    {
     "name": "stdout",
     "output_type": "stream",
     "text": [
      "Size of CIFAR_fp32_ir.bin: 1.11 MB\n",
      "Size of CIFAR_int8_ir.bin: 0.55 MB\n",
      "The INT8 network is smaller!\n"
     ]
    }
   ],
   "source": [
    "import os\n",
    "\n",
    "# Convert the fine-tuned model to OpenVINO IR\n",
    "dummy_input = torch.randn([1, 3, 32, 32])  # CIFAR10 images are 3x32x32\n",
    "CIFAR_int8_ir = ov.convert_model(CNN_CIFAR_int8_finetuned, example_input=dummy_input, input=[-1, 3, 32, 32])\n",
    "\n",
    "# Save the INT8 model to XML\n",
    "ov.save_model(CIFAR_int8_ir, \"CIFAR_int8_ir.xml\")\n",
    "\n",
    "# Verify the sizes of the FP32 and INT8 IR models\n",
    "fp32_size = os.path.getsize(\"CIFAR_fp32_ir.bin\")\n",
    "int8_size = os.path.getsize(\"CIFAR_int8_ir.bin\")\n",
    "\n",
    "print(f\"Size of CIFAR_fp32_ir.bin: {fp32_size / (1024*1024):.2f} MB\")\n",
    "print(f\"Size of CIFAR_int8_ir.bin: {int8_size / (1024*1024):.2f} MB\")\n",
    "\n",
    "# Compare the sizes\n",
    "if int8_size < fp32_size:\n",
    "    print(\"The INT8 network is smaller!\")\n",
    "else:\n",
    "    print(\"The INT8 network is not smaller.\")\n"
   ]
  },
  {
   "cell_type": "markdown",
   "metadata": {
    "id": "cbvVrwcCbZH_"
   },
   "source": [
    "Finally - compile models, validate and benchmark them.\n",
    "\n",
    "Did accuracy decreased?\n",
    "Is INT8 model faster?"
   ]
  },
  {
   "cell_type": "code",
   "execution_count": 13,
   "metadata": {
    "id": "8pmPBzNrbm7r"
   },
   "outputs": [
    {
     "name": "stderr",
     "output_type": "stream",
     "text": [
      "157it [00:03, 49.28it/s]\n"
     ]
    },
    {
     "name": "stdout",
     "output_type": "stream",
     "text": [
      "FP32 Model Accuracy: 0.48%\n",
      "FP32 Model Inference Time: 3.1880 seconds\n"
     ]
    },
    {
     "name": "stderr",
     "output_type": "stream",
     "text": [
      "157it [00:02, 73.62it/s]"
     ]
    },
    {
     "name": "stdout",
     "output_type": "stream",
     "text": [
      "INT8 Model Accuracy: 0.51%\n",
      "INT8 Model Inference Time: 2.1356 seconds\n",
      "Accuracy remained stable or increased with INT8 quantization.\n",
      "INT8 model is faster!\n"
     ]
    },
    {
     "name": "stderr",
     "output_type": "stream",
     "text": [
      "\n"
     ]
    }
   ],
   "source": [
    "import time\n",
    "\n",
    "# Ensure you have loaded the models in OpenVINO IR format\n",
    "fp32_cifar_ir_model = core.read_model(\"CIFAR_fp32_ir.xml\") # Load the FP32 model\n",
    "int8_cifar_ir_model = core.read_model(\"CIFAR_int8_ir.xml\") # Load the INT8 model\n",
    "\n",
    "device = \"CPU\"  # Choose the device, can be \"GPU\", \"MYRIAD\", etc.\n",
    "\n",
    "# Compile the models\n",
    "fp32_cifar_compiled_model = core.compile_model(fp32_cifar_ir_model, device)\n",
    "int8_cifar_compiled_model = core.compile_model(int8_cifar_ir_model, device)\n",
    "\n",
    "# Validate and benchmark\n",
    "start_time = time.time()\n",
    "acc1 = validate(test_loader, fp32_cifar_compiled_model, metric)\n",
    "fp32_time = time.time() - start_time\n",
    "\n",
    "print(f\"FP32 Model Accuracy: {acc1:.2f}%\")\n",
    "print(f\"FP32 Model Inference Time: {fp32_time:.4f} seconds\")\n",
    "\n",
    "start_time = time.time()\n",
    "acc2 = validate(test_loader, int8_cifar_compiled_model, metric)\n",
    "int8_time = time.time() - start_time\n",
    "\n",
    "print(f\"INT8 Model Accuracy: {acc2:.2f}%\")\n",
    "print(f\"INT8 Model Inference Time: {int8_time:.4f} seconds\")\n",
    "\n",
    "# Check if accuracy decreased for INT8\n",
    "if acc2 < acc1:\n",
    "    print(\"Accuracy decreased with INT8 quantization.\")\n",
    "else:\n",
    "    print(\"Accuracy remained stable or increased with INT8 quantization.\")\n",
    "\n",
    "# Check if INT8 model is faster\n",
    "if int8_time < fp32_time:\n",
    "    print(\"INT8 model is faster!\")\n",
    "else:\n",
    "    print(\"FP32 model is faster or there's no significant difference.\")\n"
   ]
  },
  {
   "cell_type": "markdown",
   "metadata": {
    "id": "Wku_Ng6WcDdI"
   },
   "source": [
    "***Extention exercise***\n",
    "\n",
    "Compare PTQ and QAT. Create CNN model and:\n",
    "- train it for 20 epochs and save as `CNN_long.pth`\n",
    "- train it for 15 epochs and save as `CNN_short.pth`\n",
    "\n",
    "Then, apply PTQ on `CNN_long.pth` model and QAT (for 5 epochs) on `CNN_short.pth`. Compare the resulting models (in terms of accuracy, size and FPS)."
   ]
  }
 ],
 "metadata": {
  "accelerator": "GPU",
  "colab": {
   "gpuType": "T4",
   "provenance": []
  },
  "kernelspec": {
   "display_name": "Python 3 (ipykernel)",
   "language": "python",
   "name": "python3"
  },
  "language_info": {
   "codemirror_mode": {
    "name": "ipython",
    "version": 3
   },
   "file_extension": ".py",
   "mimetype": "text/x-python",
   "name": "python",
   "nbconvert_exporter": "python",
   "pygments_lexer": "ipython3",
   "version": "3.9.13"
  }
 },
 "nbformat": 4,
 "nbformat_minor": 1
}
